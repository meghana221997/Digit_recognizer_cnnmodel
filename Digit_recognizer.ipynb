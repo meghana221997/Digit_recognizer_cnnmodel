{
  "nbformat": 4,
  "nbformat_minor": 0,
  "metadata": {
    "colab": {
      "provenance": []
    },
    "kernelspec": {
      "name": "python3",
      "display_name": "Python 3"
    },
    "language_info": {
      "name": "python"
    }
  },
  "cells": [
    {
      "cell_type": "markdown",
      "source": [
        "# **Midterm Project**\n"
      ],
      "metadata": {
        "id": "tv44CLc2JypW"
      }
    },
    {
      "cell_type": "code",
      "execution_count": null,
      "metadata": {
        "id": "IVBoyYwRRUA4"
      },
      "outputs": [],
      "source": [
        "import os\n",
        "import tensorflow as tf\n",
        "from tensorflow import keras\n",
        "from tensorflow.keras import layers, optimizers, datasets\n",
        "from matplotlib import pyplot as plt\n",
        "from sklearn.model_selection import train_test_split\n",
        "from sklearn.preprocessing import StandardScaler\n",
        "import numpy as np # linear algebra\n",
        "import pandas as pd # data processing, CSV file I/O (e.g. pd.read_csv)"
      ]
    },
    {
      "cell_type": "markdown",
      "source": [
        "I first started by preparing and pre-processing a dataset for digit recognition after downloading it from Kaggle. Then I loaded training and test data from CSV files, then separated the class labels from the training data. The training data is split into two sets: 80% for training (X_train_full) and 20% for validation (X_valid). Both the training and test data are normalized by scaling pixel values to a range between 0 and 1. Additionally, the data is reshaped to 4D arrays to accommodate the 28x28 pixel grayscale images."
      ],
      "metadata": {
        "id": "n1m0LJDBKXoc"
      }
    },
    {
      "cell_type": "code",
      "execution_count": null,
      "metadata": {
        "id": "MJORYH97OiYc"
      },
      "outputs": [],
      "source": [
        "digits_train = pd.read_csv('/content/drive/MyDrive/Digit_recognizer_Dataset/train.csv')\n",
        "digits_test=pd.read_csv('/content/drive/MyDrive/Digit_recognizer_Dataset/test.csv')\n",
        "X = digits_train.drop([\"label\"], axis = 1)\n",
        "y = digits_train[\"label\"]\n",
        "\n",
        "X_train_full, X_test, y_train_full, y_test = train_test_split(X, y, random_state=99)\n",
        "X_train_full = X_train_full / 255.0\n",
        "test_df = digits_test / 255.0\n",
        "\n",
        "X_train = X_train_full.values.reshape(-1,28,28,1)\n",
        "test_df = digits_test.values.reshape(-1,28,28,1)\n",
        "X_train, X_valid, y_train, y_valid = train_test_split(X_train_full, y_train_full, test_size=0.2,random_state=99)"
      ]
    },
    {
      "cell_type": "code",
      "execution_count": null,
      "metadata": {
        "id": "f5xyd514U1Xf"
      },
      "outputs": [],
      "source": [
        "scaler = StandardScaler()\n",
        "scaler.fit(X_train_full)\n",
        "X_mean = scaler.mean_\n",
        "X_std = scaler.scale_"
      ]
    },
    {
      "cell_type": "code",
      "source": [
        "print(\"x_train shape\",X_train.shape)\n",
        "print(\"x_test shape\",X_test.shape)\n",
        "print(\"x_valid shape\",X_valid.shape)"
      ],
      "metadata": {
        "colab": {
          "base_uri": "https://localhost:8080/"
        },
        "id": "bOzUvFPlwgFY",
        "outputId": "530cb57c-df1f-4d5f-805d-2dbaf3a7c7c7"
      },
      "execution_count": null,
      "outputs": [
        {
          "output_type": "stream",
          "name": "stdout",
          "text": [
            "x_train shape (25200, 784)\n",
            "x_test shape (10500, 784)\n",
            "x_valid shape (6300, 784)\n"
          ]
        }
      ]
    },
    {
      "cell_type": "markdown",
      "source": [
        "\n",
        "Then in this stage, I have implemented an efficient input pipeline for managing data in the context of machine learning and deep learning. This pipeline divides the dataset into training, validation, and test sets, saving them in distinct CSV files. Using TensorFlow's tf.data module, the pipeline reads and preprocesses data from these files, incorporating standardization. Shuffling enhances batch randomness, and the prefetch method optimizes performance. This input pipeline simplifies the handling of extensive datasets, minimizes memory utilization, and accelerates model training."
      ],
      "metadata": {
        "id": "6XryXEIdLqC6"
      }
    },
    {
      "cell_type": "code",
      "source": [
        "def save_to_multiple_csv_files(data, name_prefix, header=None, n_parts=10):\n",
        "    digits_dir = os.path.join(\"datasets\", \"digits\")\n",
        "    os.makedirs(digits_dir, exist_ok=True)\n",
        "    path_format = os.path.join(digits_dir, \"my_{}_{:02d}.csv\")\n",
        "\n",
        "    filepaths = []\n",
        "    m = len(data)\n",
        "    for file_idx, row_indices in enumerate(np.array_split(np.arange(m), n_parts)):\n",
        "        part_csv = path_format.format(name_prefix, file_idx)\n",
        "        filepaths.append(part_csv)\n",
        "        with open(part_csv, \"wt\", encoding=\"utf-8\") as f:\n",
        "            if header is not None:\n",
        "                f.write(header)\n",
        "                f.write(\"\\n\")\n",
        "            for row_idx in row_indices:\n",
        "                f.write(\",\".join([repr(col) for col in data[row_idx]]))\n",
        "                f.write(\"\\n\")\n",
        "    return filepaths"
      ],
      "metadata": {
        "id": "RlOuJOIGwhed"
      },
      "execution_count": null,
      "outputs": []
    },
    {
      "cell_type": "code",
      "source": [
        "train_data = np.c_[X_train, y_train]\n",
        "valid_data = np.c_[X_valid, y_valid]\n",
        "test_data = np.c_[X_test, y_test]\n",
        "header_cols = digits_train.columns\n",
        "header = \",\".join(header_cols)\n",
        "\n",
        "train_filepaths = save_to_multiple_csv_files(train_data, \"train\", header, n_parts=20)\n",
        "valid_filepaths = save_to_multiple_csv_files(valid_data, \"valid\", header, n_parts=10)\n",
        "test_filepaths = save_to_multiple_csv_files(test_data, \"test\", header, n_parts=10)"
      ],
      "metadata": {
        "id": "bRCJhjkUyLeT"
      },
      "execution_count": null,
      "outputs": []
    },
    {
      "cell_type": "code",
      "source": [
        "pd.read_csv(train_filepaths[0]).head()"
      ],
      "metadata": {
        "colab": {
          "base_uri": "https://localhost:8080/",
          "height": 256
        },
        "id": "bS5R3ywOyY9T",
        "outputId": "00b23519-a09f-415f-8bd5-73f0c5254504"
      },
      "execution_count": null,
      "outputs": [
        {
          "output_type": "execute_result",
          "data": {
            "text/plain": [
              "   label  pixel0  pixel1  pixel2  pixel3  pixel4  pixel5  pixel6  pixel7  \\\n",
              "0    0.0     0.0     0.0     0.0     0.0     0.0     0.0     0.0     0.0   \n",
              "1    0.0     0.0     0.0     0.0     0.0     0.0     0.0     0.0     0.0   \n",
              "2    0.0     0.0     0.0     0.0     0.0     0.0     0.0     0.0     0.0   \n",
              "3    0.0     0.0     0.0     0.0     0.0     0.0     0.0     0.0     0.0   \n",
              "4    0.0     0.0     0.0     0.0     0.0     0.0     0.0     0.0     0.0   \n",
              "\n",
              "   pixel8  ...  pixel774  pixel775  pixel776  pixel777  pixel778  pixel779  \\\n",
              "0     0.0  ...       0.0       0.0       0.0       0.0       0.0       0.0   \n",
              "1     0.0  ...       0.0       0.0       0.0       0.0       0.0       0.0   \n",
              "2     0.0  ...       0.0       0.0       0.0       0.0       0.0       0.0   \n",
              "3     0.0  ...       0.0       0.0       0.0       0.0       0.0       0.0   \n",
              "4     0.0  ...       0.0       0.0       0.0       0.0       0.0       0.0   \n",
              "\n",
              "   pixel780  pixel781  pixel782  pixel783  \n",
              "0       0.0       0.0       0.0       0.0  \n",
              "1       0.0       0.0       0.0       9.0  \n",
              "2       0.0       0.0       0.0       4.0  \n",
              "3       0.0       0.0       0.0       2.0  \n",
              "4       0.0       0.0       0.0       6.0  \n",
              "\n",
              "[5 rows x 785 columns]"
            ],
            "text/html": [
              "\n",
              "  <div id=\"df-39c66411-942d-40d5-a72f-d83759452857\" class=\"colab-df-container\">\n",
              "    <div>\n",
              "<style scoped>\n",
              "    .dataframe tbody tr th:only-of-type {\n",
              "        vertical-align: middle;\n",
              "    }\n",
              "\n",
              "    .dataframe tbody tr th {\n",
              "        vertical-align: top;\n",
              "    }\n",
              "\n",
              "    .dataframe thead th {\n",
              "        text-align: right;\n",
              "    }\n",
              "</style>\n",
              "<table border=\"1\" class=\"dataframe\">\n",
              "  <thead>\n",
              "    <tr style=\"text-align: right;\">\n",
              "      <th></th>\n",
              "      <th>label</th>\n",
              "      <th>pixel0</th>\n",
              "      <th>pixel1</th>\n",
              "      <th>pixel2</th>\n",
              "      <th>pixel3</th>\n",
              "      <th>pixel4</th>\n",
              "      <th>pixel5</th>\n",
              "      <th>pixel6</th>\n",
              "      <th>pixel7</th>\n",
              "      <th>pixel8</th>\n",
              "      <th>...</th>\n",
              "      <th>pixel774</th>\n",
              "      <th>pixel775</th>\n",
              "      <th>pixel776</th>\n",
              "      <th>pixel777</th>\n",
              "      <th>pixel778</th>\n",
              "      <th>pixel779</th>\n",
              "      <th>pixel780</th>\n",
              "      <th>pixel781</th>\n",
              "      <th>pixel782</th>\n",
              "      <th>pixel783</th>\n",
              "    </tr>\n",
              "  </thead>\n",
              "  <tbody>\n",
              "    <tr>\n",
              "      <th>0</th>\n",
              "      <td>0.0</td>\n",
              "      <td>0.0</td>\n",
              "      <td>0.0</td>\n",
              "      <td>0.0</td>\n",
              "      <td>0.0</td>\n",
              "      <td>0.0</td>\n",
              "      <td>0.0</td>\n",
              "      <td>0.0</td>\n",
              "      <td>0.0</td>\n",
              "      <td>0.0</td>\n",
              "      <td>...</td>\n",
              "      <td>0.0</td>\n",
              "      <td>0.0</td>\n",
              "      <td>0.0</td>\n",
              "      <td>0.0</td>\n",
              "      <td>0.0</td>\n",
              "      <td>0.0</td>\n",
              "      <td>0.0</td>\n",
              "      <td>0.0</td>\n",
              "      <td>0.0</td>\n",
              "      <td>0.0</td>\n",
              "    </tr>\n",
              "    <tr>\n",
              "      <th>1</th>\n",
              "      <td>0.0</td>\n",
              "      <td>0.0</td>\n",
              "      <td>0.0</td>\n",
              "      <td>0.0</td>\n",
              "      <td>0.0</td>\n",
              "      <td>0.0</td>\n",
              "      <td>0.0</td>\n",
              "      <td>0.0</td>\n",
              "      <td>0.0</td>\n",
              "      <td>0.0</td>\n",
              "      <td>...</td>\n",
              "      <td>0.0</td>\n",
              "      <td>0.0</td>\n",
              "      <td>0.0</td>\n",
              "      <td>0.0</td>\n",
              "      <td>0.0</td>\n",
              "      <td>0.0</td>\n",
              "      <td>0.0</td>\n",
              "      <td>0.0</td>\n",
              "      <td>0.0</td>\n",
              "      <td>9.0</td>\n",
              "    </tr>\n",
              "    <tr>\n",
              "      <th>2</th>\n",
              "      <td>0.0</td>\n",
              "      <td>0.0</td>\n",
              "      <td>0.0</td>\n",
              "      <td>0.0</td>\n",
              "      <td>0.0</td>\n",
              "      <td>0.0</td>\n",
              "      <td>0.0</td>\n",
              "      <td>0.0</td>\n",
              "      <td>0.0</td>\n",
              "      <td>0.0</td>\n",
              "      <td>...</td>\n",
              "      <td>0.0</td>\n",
              "      <td>0.0</td>\n",
              "      <td>0.0</td>\n",
              "      <td>0.0</td>\n",
              "      <td>0.0</td>\n",
              "      <td>0.0</td>\n",
              "      <td>0.0</td>\n",
              "      <td>0.0</td>\n",
              "      <td>0.0</td>\n",
              "      <td>4.0</td>\n",
              "    </tr>\n",
              "    <tr>\n",
              "      <th>3</th>\n",
              "      <td>0.0</td>\n",
              "      <td>0.0</td>\n",
              "      <td>0.0</td>\n",
              "      <td>0.0</td>\n",
              "      <td>0.0</td>\n",
              "      <td>0.0</td>\n",
              "      <td>0.0</td>\n",
              "      <td>0.0</td>\n",
              "      <td>0.0</td>\n",
              "      <td>0.0</td>\n",
              "      <td>...</td>\n",
              "      <td>0.0</td>\n",
              "      <td>0.0</td>\n",
              "      <td>0.0</td>\n",
              "      <td>0.0</td>\n",
              "      <td>0.0</td>\n",
              "      <td>0.0</td>\n",
              "      <td>0.0</td>\n",
              "      <td>0.0</td>\n",
              "      <td>0.0</td>\n",
              "      <td>2.0</td>\n",
              "    </tr>\n",
              "    <tr>\n",
              "      <th>4</th>\n",
              "      <td>0.0</td>\n",
              "      <td>0.0</td>\n",
              "      <td>0.0</td>\n",
              "      <td>0.0</td>\n",
              "      <td>0.0</td>\n",
              "      <td>0.0</td>\n",
              "      <td>0.0</td>\n",
              "      <td>0.0</td>\n",
              "      <td>0.0</td>\n",
              "      <td>0.0</td>\n",
              "      <td>...</td>\n",
              "      <td>0.0</td>\n",
              "      <td>0.0</td>\n",
              "      <td>0.0</td>\n",
              "      <td>0.0</td>\n",
              "      <td>0.0</td>\n",
              "      <td>0.0</td>\n",
              "      <td>0.0</td>\n",
              "      <td>0.0</td>\n",
              "      <td>0.0</td>\n",
              "      <td>6.0</td>\n",
              "    </tr>\n",
              "  </tbody>\n",
              "</table>\n",
              "<p>5 rows × 785 columns</p>\n",
              "</div>\n",
              "    <div class=\"colab-df-buttons\">\n",
              "\n",
              "  <div class=\"colab-df-container\">\n",
              "    <button class=\"colab-df-convert\" onclick=\"convertToInteractive('df-39c66411-942d-40d5-a72f-d83759452857')\"\n",
              "            title=\"Convert this dataframe to an interactive table.\"\n",
              "            style=\"display:none;\">\n",
              "\n",
              "  <svg xmlns=\"http://www.w3.org/2000/svg\" height=\"24px\" viewBox=\"0 -960 960 960\">\n",
              "    <path d=\"M120-120v-720h720v720H120Zm60-500h600v-160H180v160Zm220 220h160v-160H400v160Zm0 220h160v-160H400v160ZM180-400h160v-160H180v160Zm440 0h160v-160H620v160ZM180-180h160v-160H180v160Zm440 0h160v-160H620v160Z\"/>\n",
              "  </svg>\n",
              "    </button>\n",
              "\n",
              "  <style>\n",
              "    .colab-df-container {\n",
              "      display:flex;\n",
              "      gap: 12px;\n",
              "    }\n",
              "\n",
              "    .colab-df-convert {\n",
              "      background-color: #E8F0FE;\n",
              "      border: none;\n",
              "      border-radius: 50%;\n",
              "      cursor: pointer;\n",
              "      display: none;\n",
              "      fill: #1967D2;\n",
              "      height: 32px;\n",
              "      padding: 0 0 0 0;\n",
              "      width: 32px;\n",
              "    }\n",
              "\n",
              "    .colab-df-convert:hover {\n",
              "      background-color: #E2EBFA;\n",
              "      box-shadow: 0px 1px 2px rgba(60, 64, 67, 0.3), 0px 1px 3px 1px rgba(60, 64, 67, 0.15);\n",
              "      fill: #174EA6;\n",
              "    }\n",
              "\n",
              "    .colab-df-buttons div {\n",
              "      margin-bottom: 4px;\n",
              "    }\n",
              "\n",
              "    [theme=dark] .colab-df-convert {\n",
              "      background-color: #3B4455;\n",
              "      fill: #D2E3FC;\n",
              "    }\n",
              "\n",
              "    [theme=dark] .colab-df-convert:hover {\n",
              "      background-color: #434B5C;\n",
              "      box-shadow: 0px 1px 3px 1px rgba(0, 0, 0, 0.15);\n",
              "      filter: drop-shadow(0px 1px 2px rgba(0, 0, 0, 0.3));\n",
              "      fill: #FFFFFF;\n",
              "    }\n",
              "  </style>\n",
              "\n",
              "    <script>\n",
              "      const buttonEl =\n",
              "        document.querySelector('#df-39c66411-942d-40d5-a72f-d83759452857 button.colab-df-convert');\n",
              "      buttonEl.style.display =\n",
              "        google.colab.kernel.accessAllowed ? 'block' : 'none';\n",
              "\n",
              "      async function convertToInteractive(key) {\n",
              "        const element = document.querySelector('#df-39c66411-942d-40d5-a72f-d83759452857');\n",
              "        const dataTable =\n",
              "          await google.colab.kernel.invokeFunction('convertToInteractive',\n",
              "                                                    [key], {});\n",
              "        if (!dataTable) return;\n",
              "\n",
              "        const docLinkHtml = 'Like what you see? Visit the ' +\n",
              "          '<a target=\"_blank\" href=https://colab.research.google.com/notebooks/data_table.ipynb>data table notebook</a>'\n",
              "          + ' to learn more about interactive tables.';\n",
              "        element.innerHTML = '';\n",
              "        dataTable['output_type'] = 'display_data';\n",
              "        await google.colab.output.renderOutput(dataTable, element);\n",
              "        const docLink = document.createElement('div');\n",
              "        docLink.innerHTML = docLinkHtml;\n",
              "        element.appendChild(docLink);\n",
              "      }\n",
              "    </script>\n",
              "  </div>\n",
              "\n",
              "\n",
              "<div id=\"df-698888ad-c467-4527-aeba-cf17f46fc0ef\">\n",
              "  <button class=\"colab-df-quickchart\" onclick=\"quickchart('df-698888ad-c467-4527-aeba-cf17f46fc0ef')\"\n",
              "            title=\"Suggest charts.\"\n",
              "            style=\"display:none;\">\n",
              "\n",
              "<svg xmlns=\"http://www.w3.org/2000/svg\" height=\"24px\"viewBox=\"0 0 24 24\"\n",
              "     width=\"24px\">\n",
              "    <g>\n",
              "        <path d=\"M19 3H5c-1.1 0-2 .9-2 2v14c0 1.1.9 2 2 2h14c1.1 0 2-.9 2-2V5c0-1.1-.9-2-2-2zM9 17H7v-7h2v7zm4 0h-2V7h2v10zm4 0h-2v-4h2v4z\"/>\n",
              "    </g>\n",
              "</svg>\n",
              "  </button>\n",
              "\n",
              "<style>\n",
              "  .colab-df-quickchart {\n",
              "      --bg-color: #E8F0FE;\n",
              "      --fill-color: #1967D2;\n",
              "      --hover-bg-color: #E2EBFA;\n",
              "      --hover-fill-color: #174EA6;\n",
              "      --disabled-fill-color: #AAA;\n",
              "      --disabled-bg-color: #DDD;\n",
              "  }\n",
              "\n",
              "  [theme=dark] .colab-df-quickchart {\n",
              "      --bg-color: #3B4455;\n",
              "      --fill-color: #D2E3FC;\n",
              "      --hover-bg-color: #434B5C;\n",
              "      --hover-fill-color: #FFFFFF;\n",
              "      --disabled-bg-color: #3B4455;\n",
              "      --disabled-fill-color: #666;\n",
              "  }\n",
              "\n",
              "  .colab-df-quickchart {\n",
              "    background-color: var(--bg-color);\n",
              "    border: none;\n",
              "    border-radius: 50%;\n",
              "    cursor: pointer;\n",
              "    display: none;\n",
              "    fill: var(--fill-color);\n",
              "    height: 32px;\n",
              "    padding: 0;\n",
              "    width: 32px;\n",
              "  }\n",
              "\n",
              "  .colab-df-quickchart:hover {\n",
              "    background-color: var(--hover-bg-color);\n",
              "    box-shadow: 0 1px 2px rgba(60, 64, 67, 0.3), 0 1px 3px 1px rgba(60, 64, 67, 0.15);\n",
              "    fill: var(--button-hover-fill-color);\n",
              "  }\n",
              "\n",
              "  .colab-df-quickchart-complete:disabled,\n",
              "  .colab-df-quickchart-complete:disabled:hover {\n",
              "    background-color: var(--disabled-bg-color);\n",
              "    fill: var(--disabled-fill-color);\n",
              "    box-shadow: none;\n",
              "  }\n",
              "\n",
              "  .colab-df-spinner {\n",
              "    border: 2px solid var(--fill-color);\n",
              "    border-color: transparent;\n",
              "    border-bottom-color: var(--fill-color);\n",
              "    animation:\n",
              "      spin 1s steps(1) infinite;\n",
              "  }\n",
              "\n",
              "  @keyframes spin {\n",
              "    0% {\n",
              "      border-color: transparent;\n",
              "      border-bottom-color: var(--fill-color);\n",
              "      border-left-color: var(--fill-color);\n",
              "    }\n",
              "    20% {\n",
              "      border-color: transparent;\n",
              "      border-left-color: var(--fill-color);\n",
              "      border-top-color: var(--fill-color);\n",
              "    }\n",
              "    30% {\n",
              "      border-color: transparent;\n",
              "      border-left-color: var(--fill-color);\n",
              "      border-top-color: var(--fill-color);\n",
              "      border-right-color: var(--fill-color);\n",
              "    }\n",
              "    40% {\n",
              "      border-color: transparent;\n",
              "      border-right-color: var(--fill-color);\n",
              "      border-top-color: var(--fill-color);\n",
              "    }\n",
              "    60% {\n",
              "      border-color: transparent;\n",
              "      border-right-color: var(--fill-color);\n",
              "    }\n",
              "    80% {\n",
              "      border-color: transparent;\n",
              "      border-right-color: var(--fill-color);\n",
              "      border-bottom-color: var(--fill-color);\n",
              "    }\n",
              "    90% {\n",
              "      border-color: transparent;\n",
              "      border-bottom-color: var(--fill-color);\n",
              "    }\n",
              "  }\n",
              "</style>\n",
              "\n",
              "  <script>\n",
              "    async function quickchart(key) {\n",
              "      const quickchartButtonEl =\n",
              "        document.querySelector('#' + key + ' button');\n",
              "      quickchartButtonEl.disabled = true;  // To prevent multiple clicks.\n",
              "      quickchartButtonEl.classList.add('colab-df-spinner');\n",
              "      try {\n",
              "        const charts = await google.colab.kernel.invokeFunction(\n",
              "            'suggestCharts', [key], {});\n",
              "      } catch (error) {\n",
              "        console.error('Error during call to suggestCharts:', error);\n",
              "      }\n",
              "      quickchartButtonEl.classList.remove('colab-df-spinner');\n",
              "      quickchartButtonEl.classList.add('colab-df-quickchart-complete');\n",
              "    }\n",
              "    (() => {\n",
              "      let quickchartButtonEl =\n",
              "        document.querySelector('#df-698888ad-c467-4527-aeba-cf17f46fc0ef button');\n",
              "      quickchartButtonEl.style.display =\n",
              "        google.colab.kernel.accessAllowed ? 'block' : 'none';\n",
              "    })();\n",
              "  </script>\n",
              "</div>\n",
              "    </div>\n",
              "  </div>\n"
            ]
          },
          "metadata": {},
          "execution_count": 7
        }
      ]
    },
    {
      "cell_type": "code",
      "source": [
        "filepath_dataset = tf.data.Dataset.list_files(train_filepaths, seed=42)\n",
        "n_readers = 10 #size of batch\n",
        "dataset = filepath_dataset.interleave(\n",
        "    lambda filepath: tf.data.TextLineDataset(filepath).skip(1), # lambda standardization\n",
        "    cycle_length=n_readers)"
      ],
      "metadata": {
        "id": "Cm6c0iJrysnT"
      },
      "execution_count": null,
      "outputs": []
    },
    {
      "cell_type": "code",
      "source": [
        "n_inputs = 784 # X_train.shape[-1]\n",
        "def preprocess(line):\n",
        "    defs = [0.] * n_inputs + [tf.constant([], dtype=tf.float32)]\n",
        "    fields = tf.io.decode_csv(line, record_defaults=defs)\n",
        "    x = tf.stack(fields[:-1])\n",
        "    y = tf.stack(fields[-1:])\n",
        "    return (x - X_mean) / X_std, y"
      ],
      "metadata": {
        "id": "AsO-vK8QzBeA"
      },
      "execution_count": null,
      "outputs": []
    },
    {
      "cell_type": "code",
      "source": [
        "def csv_reader_dataset(filepaths, repeat=1, n_readers=10,  # number of files at a time\n",
        "                       n_read_threads=None, shuffle_buffer_size=10000,\n",
        "                       n_parse_threads=5, batch_size=32):\n",
        "    dataset = tf.data.Dataset.list_files(filepaths).repeat(repeat)\n",
        "    dataset = dataset.interleave(\n",
        "        lambda filepath: tf.data.TextLineDataset(filepath).skip(1),\n",
        "        cycle_length=n_readers,\n",
        "        num_parallel_calls=n_read_threads)\n",
        "    dataset = dataset.shuffle(shuffle_buffer_size)\n",
        "    dataset = dataset.map(preprocess, num_parallel_calls=n_parse_threads)\n",
        "    dataset = dataset.batch(batch_size)\n",
        "    return dataset.prefetch(1)"
      ],
      "metadata": {
        "id": "K9vset7R0zIr"
      },
      "execution_count": null,
      "outputs": []
    },
    {
      "cell_type": "code",
      "source": [
        "train_set = csv_reader_dataset(train_filepaths, repeat=None)\n",
        "valid_set = csv_reader_dataset(valid_filepaths)\n",
        "test_set = csv_reader_dataset(test_filepaths)"
      ],
      "metadata": {
        "id": "rJoTFCKw1B5G"
      },
      "execution_count": null,
      "outputs": []
    },
    {
      "cell_type": "code",
      "execution_count": null,
      "metadata": {
        "id": "XHBqcse4cX1P"
      },
      "outputs": [],
      "source": [
        "from keras.callbacks import EarlyStopping\n",
        "from keras.models import Sequential\n",
        "from keras.layers import Lambda, Dense, Dropout, Flatten, BatchNormalization\n",
        "\n",
        "model = keras.models.Sequential([\n",
        "        keras.layers.Flatten(input_shape=(X_train.shape[1:])),\n",
        "        tf.keras.layers.Dense(256, activation='relu'),\n",
        "        tf.keras.layers.Dense(128, activation='relu'),\n",
        "        tf.keras.layers.Dense(10, activation='softmax'),\n",
        "    ])\n",
        "\n",
        "early_stopping = EarlyStopping(min_delta = 0.001,patience = 20,restore_best_weights = True,verbose = 0)\n"
      ]
    },
    {
      "cell_type": "code",
      "execution_count": null,
      "metadata": {
        "id": "2nJA5nlccgZ5"
      },
      "outputs": [],
      "source": [
        "model.compile(\n",
        "    loss=\"sparse_categorical_crossentropy\",\n",
        "    optimizer = keras.optimizers.Adam(learning_rate=0.001),\n",
        "    metrics = ['accuracy'],\n",
        ")"
      ]
    },
    {
      "cell_type": "code",
      "execution_count": null,
      "metadata": {
        "colab": {
          "base_uri": "https://localhost:8080/"
        },
        "id": "5N82fflPcn4v",
        "outputId": "cabd2b7d-7dce-42e9-b4ec-87b6b9d24548"
      },
      "outputs": [
        {
          "output_type": "stream",
          "name": "stdout",
          "text": [
            "Epoch 1/35\n",
            "787/787 [==============================] - 17s 21ms/step - loss: 0.2799 - accuracy: 0.9163 - val_loss: 0.1786 - val_accuracy: 0.9462\n",
            "Epoch 2/35\n",
            "787/787 [==============================] - 27s 34ms/step - loss: 0.1072 - accuracy: 0.9668 - val_loss: 0.1519 - val_accuracy: 0.9581\n",
            "Epoch 3/35\n",
            "787/787 [==============================] - 16s 20ms/step - loss: 0.0709 - accuracy: 0.9776 - val_loss: 0.1574 - val_accuracy: 0.9605\n",
            "Epoch 4/35\n",
            "787/787 [==============================] - 16s 20ms/step - loss: 0.0512 - accuracy: 0.9834 - val_loss: 0.1563 - val_accuracy: 0.9606\n",
            "Epoch 5/35\n",
            "787/787 [==============================] - 17s 22ms/step - loss: 0.0414 - accuracy: 0.9868 - val_loss: 0.1616 - val_accuracy: 0.9629\n",
            "Epoch 6/35\n",
            "787/787 [==============================] - 18s 23ms/step - loss: 0.0450 - accuracy: 0.9864 - val_loss: 0.1716 - val_accuracy: 0.9624\n",
            "Epoch 7/35\n",
            "787/787 [==============================] - 18s 22ms/step - loss: 0.0377 - accuracy: 0.9891 - val_loss: 0.1773 - val_accuracy: 0.9673\n",
            "Epoch 8/35\n",
            "787/787 [==============================] - 16s 20ms/step - loss: 0.0364 - accuracy: 0.9898 - val_loss: 0.2058 - val_accuracy: 0.9624\n",
            "Epoch 9/35\n",
            "787/787 [==============================] - 17s 21ms/step - loss: 0.0184 - accuracy: 0.9945 - val_loss: 0.1864 - val_accuracy: 0.9662\n",
            "Epoch 10/35\n",
            "787/787 [==============================] - 16s 20ms/step - loss: 0.0241 - accuracy: 0.9928 - val_loss: 0.1870 - val_accuracy: 0.9683\n",
            "Epoch 11/35\n",
            "787/787 [==============================] - 16s 20ms/step - loss: 0.0257 - accuracy: 0.9920 - val_loss: 0.1859 - val_accuracy: 0.9660\n",
            "Epoch 12/35\n",
            "787/787 [==============================] - 19s 24ms/step - loss: 0.0303 - accuracy: 0.9919 - val_loss: 0.2698 - val_accuracy: 0.9619\n",
            "Epoch 13/35\n",
            "787/787 [==============================] - 16s 21ms/step - loss: 0.0319 - accuracy: 0.9923 - val_loss: 0.2821 - val_accuracy: 0.9629\n",
            "Epoch 14/35\n",
            "787/787 [==============================] - 16s 20ms/step - loss: 0.0275 - accuracy: 0.9933 - val_loss: 0.2847 - val_accuracy: 0.9635\n",
            "Epoch 15/35\n",
            "787/787 [==============================] - 16s 20ms/step - loss: 0.0327 - accuracy: 0.9936 - val_loss: 0.3075 - val_accuracy: 0.9656\n",
            "Epoch 16/35\n",
            "787/787 [==============================] - 16s 20ms/step - loss: 0.0164 - accuracy: 0.9956 - val_loss: 0.3032 - val_accuracy: 0.9660\n",
            "Epoch 17/35\n",
            "787/787 [==============================] - 16s 20ms/step - loss: 0.0283 - accuracy: 0.9940 - val_loss: 0.2780 - val_accuracy: 0.9654\n",
            "Epoch 18/35\n",
            "787/787 [==============================] - 18s 23ms/step - loss: 0.0150 - accuracy: 0.9954 - val_loss: 0.2541 - val_accuracy: 0.9681\n",
            "Epoch 19/35\n",
            "787/787 [==============================] - 16s 20ms/step - loss: 0.0280 - accuracy: 0.9945 - val_loss: 0.2959 - val_accuracy: 0.9643\n",
            "Epoch 20/35\n",
            "787/787 [==============================] - 16s 20ms/step - loss: 0.0229 - accuracy: 0.9946 - val_loss: 0.2875 - val_accuracy: 0.9670\n",
            "Epoch 21/35\n",
            "787/787 [==============================] - 19s 24ms/step - loss: 0.0118 - accuracy: 0.9969 - val_loss: 0.3213 - val_accuracy: 0.9640\n",
            "Epoch 22/35\n",
            "787/787 [==============================] - 16s 20ms/step - loss: 0.0244 - accuracy: 0.9943 - val_loss: 0.2966 - val_accuracy: 0.9657\n"
          ]
        }
      ],
      "source": [
        "batch_size = 32\n",
        "history = model.fit(train_set,steps_per_epoch=len(X_train) // batch_size,\n",
        "                    epochs=35,\n",
        "                    callbacks = [early_stopping],\n",
        "                    validation_data = valid_set)"
      ]
    },
    {
      "cell_type": "code",
      "source": [
        "batch_size = 128\n",
        "score = model.evaluate(test_set, steps=len(X_test) // batch_size)"
      ],
      "metadata": {
        "colab": {
          "base_uri": "https://localhost:8080/"
        },
        "id": "MagynOoO5aia",
        "outputId": "ef1481db-c5b3-4e4e-a85c-32d415a708c5"
      },
      "execution_count": null,
      "outputs": [
        {
          "output_type": "stream",
          "name": "stdout",
          "text": [
            "82/82 [==============================] - 1s 13ms/step - loss: 48.3310 - accuracy: 0.9101\n"
          ]
        }
      ]
    },
    {
      "cell_type": "code",
      "execution_count": null,
      "metadata": {
        "id": "68MBpIOXeMP9",
        "colab": {
          "base_uri": "https://localhost:8080/"
        },
        "outputId": "b6d2f1ad-23a4-4b1e-83cb-acc071ed08ae"
      },
      "outputs": [
        {
          "output_type": "stream",
          "name": "stdout",
          "text": [
            "Test loss: 48.330955505371094\n",
            "Test accuracy: 0.9100610017776489\n"
          ]
        }
      ],
      "source": [
        "print('Test loss:', score[0])\n",
        "print('Test accuracy:', score[1])"
      ]
    },
    {
      "cell_type": "code",
      "execution_count": null,
      "metadata": {
        "id": "07FhbCUzcuyk",
        "colab": {
          "base_uri": "https://localhost:8080/",
          "height": 451
        },
        "outputId": "968b9365-c281-4403-f41e-d36142854f48"
      },
      "outputs": [
        {
          "output_type": "display_data",
          "data": {
            "text/plain": [
              "<Figure size 800x500 with 1 Axes>"
            ],
            "image/png": "[encoded data removed]"
          },
          "metadata": {}
        }
      ],
      "source": [
        "pd.DataFrame(history.history).plot(figsize=(8, 5))\n",
        "plt.grid(True)\n",
        "plt.gca().set_ylim(0, 1)\n",
        "plt.show()"
      ]
    },
    {
      "cell_type": "markdown",
      "source": [
        "I have also introduced a standardization layer to the pipeline to further enhance data preprocessing. This layer computes means and standard deviations from the training data to standardize the features. However, it's worth noting that this model's validation loss remains relatively high despite these efforts"
      ],
      "metadata": {
        "id": "JJMT9PyYL8f6"
      }
    },
    {
      "cell_type": "code",
      "source": [
        "keras.backend.clear_session()\n",
        "np.random.seed(42)\n",
        "tf.random.set_seed(42)"
      ],
      "metadata": {
        "id": "oB_3Pt6vF2Co"
      },
      "execution_count": null,
      "outputs": []
    },
    {
      "cell_type": "code",
      "source": [
        "means = np.mean(X_train, axis=0)\n",
        "stds = np.std(X_train, axis=0)\n",
        "eps = keras.backend.epsilon()\n",
        "\n",
        "model = keras.models.Sequential([\n",
        "    keras.layers.Lambda(lambda inputs: (inputs - means) / (stds + eps)),\n",
        "    keras.layers.Flatten(input_shape=(X_train.shape[1:])),\n",
        "    keras.layers.Dense(512, activation='relu'),\n",
        "    keras.layers.Dropout(0.2),\n",
        "    keras.layers.Dense(256, activation='relu'),\n",
        "    keras.layers.Dropout(0.2),\n",
        "    keras.layers.Dense(128, activation='relu'),\n",
        "    keras.layers.Dropout(0.2),\n",
        "    keras.layers.Dense(10, activation='softmax')\n",
        "])\n",
        "\n"
      ],
      "metadata": {
        "id": "zX-kcrtCr4s5"
      },
      "execution_count": null,
      "outputs": []
    },
    {
      "cell_type": "code",
      "source": [
        "model.compile(optimizer='adam',\n",
        "              loss='sparse_categorical_crossentropy',\n",
        "              metrics=['accuracy'])"
      ],
      "metadata": {
        "id": "HKx03lKZs8x-"
      },
      "execution_count": null,
      "outputs": []
    },
    {
      "cell_type": "code",
      "source": [
        "history = model.fit(X_train, y_train, epochs=30,\n",
        "                    validation_data=(X_valid, y_valid))"
      ],
      "metadata": {
        "colab": {
          "base_uri": "https://localhost:8080/"
        },
        "id": "ioWqrgKKsGBq",
        "outputId": "dce2b95f-39d2-45c3-ae62-ff6864af1d4f"
      },
      "execution_count": null,
      "outputs": [
        {
          "output_type": "stream",
          "name": "stdout",
          "text": [
            "Epoch 1/30\n",
            "788/788 [==============================] - 8s 9ms/step - loss: 0.3875 - accuracy: 0.8856 - val_loss: 67.7278 - val_accuracy: 0.9475\n",
            "Epoch 2/30\n",
            "788/788 [==============================] - 6s 7ms/step - loss: 0.1943 - accuracy: 0.9429 - val_loss: 2.9525 - val_accuracy: 0.9511\n",
            "Epoch 3/30\n",
            "788/788 [==============================] - 6s 7ms/step - loss: 0.1599 - accuracy: 0.9543 - val_loss: 61.5959 - val_accuracy: 0.9578\n",
            "Epoch 4/30\n",
            "788/788 [==============================] - 5s 7ms/step - loss: 0.1376 - accuracy: 0.9606 - val_loss: 13.3884 - val_accuracy: 0.9575\n",
            "Epoch 5/30\n",
            "788/788 [==============================] - 5s 7ms/step - loss: 0.1074 - accuracy: 0.9670 - val_loss: 31.7438 - val_accuracy: 0.9633\n",
            "Epoch 6/30\n",
            "788/788 [==============================] - 6s 8ms/step - loss: 0.0994 - accuracy: 0.9712 - val_loss: 6.6463 - val_accuracy: 0.9643\n",
            "Epoch 7/30\n",
            "788/788 [==============================] - 5s 7ms/step - loss: 0.0968 - accuracy: 0.9725 - val_loss: 28.2068 - val_accuracy: 0.9659\n",
            "Epoch 8/30\n",
            "788/788 [==============================] - 6s 8ms/step - loss: 0.0918 - accuracy: 0.9732 - val_loss: 13.2667 - val_accuracy: 0.9638\n",
            "Epoch 9/30\n",
            "788/788 [==============================] - 6s 7ms/step - loss: 0.0773 - accuracy: 0.9779 - val_loss: 30.5338 - val_accuracy: 0.9630\n",
            "Epoch 10/30\n",
            "788/788 [==============================] - 7s 9ms/step - loss: 0.0751 - accuracy: 0.9771 - val_loss: 23.0687 - val_accuracy: 0.9641\n",
            "Epoch 11/30\n",
            "788/788 [==============================] - 6s 7ms/step - loss: 0.0751 - accuracy: 0.9788 - val_loss: 1.3727 - val_accuracy: 0.9624\n",
            "Epoch 12/30\n",
            "788/788 [==============================] - 7s 9ms/step - loss: 0.0595 - accuracy: 0.9825 - val_loss: 29.9493 - val_accuracy: 0.9662\n",
            "Epoch 13/30\n",
            "788/788 [==============================] - 6s 8ms/step - loss: 0.0678 - accuracy: 0.9811 - val_loss: 112.3422 - val_accuracy: 0.9646\n",
            "Epoch 14/30\n",
            "788/788 [==============================] - 7s 8ms/step - loss: 0.0695 - accuracy: 0.9819 - val_loss: 56.1774 - val_accuracy: 0.9649\n",
            "Epoch 15/30\n",
            "788/788 [==============================] - 6s 8ms/step - loss: 0.0575 - accuracy: 0.9833 - val_loss: 17.1144 - val_accuracy: 0.9659\n",
            "Epoch 16/30\n",
            "788/788 [==============================] - 7s 8ms/step - loss: 0.0484 - accuracy: 0.9862 - val_loss: 35.7889 - val_accuracy: 0.9675\n",
            "Epoch 17/30\n",
            "788/788 [==============================] - 6s 8ms/step - loss: 0.0597 - accuracy: 0.9835 - val_loss: 29.9825 - val_accuracy: 0.9683\n",
            "Epoch 18/30\n",
            "788/788 [==============================] - 7s 9ms/step - loss: 0.0478 - accuracy: 0.9862 - val_loss: 8.4377 - val_accuracy: 0.9660\n",
            "Epoch 19/30\n",
            "788/788 [==============================] - 7s 8ms/step - loss: 0.0514 - accuracy: 0.9863 - val_loss: 23.1648 - val_accuracy: 0.9654\n",
            "Epoch 20/30\n",
            "788/788 [==============================] - 7s 9ms/step - loss: 0.0492 - accuracy: 0.9882 - val_loss: 2.1522 - val_accuracy: 0.9708\n",
            "Epoch 21/30\n",
            "788/788 [==============================] - 6s 7ms/step - loss: 0.0516 - accuracy: 0.9871 - val_loss: 8.3005 - val_accuracy: 0.9663\n",
            "Epoch 22/30\n",
            "788/788 [==============================] - 7s 9ms/step - loss: 0.0456 - accuracy: 0.9868 - val_loss: 15.0438 - val_accuracy: 0.9716\n",
            "Epoch 23/30\n",
            "788/788 [==============================] - 6s 8ms/step - loss: 0.0498 - accuracy: 0.9881 - val_loss: 7.6127 - val_accuracy: 0.9687\n",
            "Epoch 24/30\n",
            "788/788 [==============================] - 7s 9ms/step - loss: 0.0511 - accuracy: 0.9875 - val_loss: 31.4149 - val_accuracy: 0.9675\n",
            "Epoch 25/30\n",
            "788/788 [==============================] - 6s 7ms/step - loss: 0.0487 - accuracy: 0.9887 - val_loss: 0.2380 - val_accuracy: 0.9711\n",
            "Epoch 26/30\n",
            "788/788 [==============================] - 8s 10ms/step - loss: 0.0427 - accuracy: 0.9880 - val_loss: 20.7814 - val_accuracy: 0.9711\n",
            "Epoch 27/30\n",
            "788/788 [==============================] - 6s 7ms/step - loss: 0.0381 - accuracy: 0.9904 - val_loss: 4.9846 - val_accuracy: 0.9702\n",
            "Epoch 28/30\n",
            "788/788 [==============================] - 7s 9ms/step - loss: 0.0520 - accuracy: 0.9884 - val_loss: 68.7534 - val_accuracy: 0.9700\n",
            "Epoch 29/30\n",
            "788/788 [==============================] - 7s 8ms/step - loss: 0.0475 - accuracy: 0.9899 - val_loss: 20.3995 - val_accuracy: 0.9700\n",
            "Epoch 30/30\n",
            "788/788 [==============================] - 7s 9ms/step - loss: 0.0551 - accuracy: 0.9889 - val_loss: 42.6531 - val_accuracy: 0.9722\n"
          ]
        }
      ]
    },
    {
      "cell_type": "code",
      "source": [
        "score = model.evaluate(X_test, y_test)"
      ],
      "metadata": {
        "colab": {
          "base_uri": "https://localhost:8080/"
        },
        "id": "1QEqZzW79Myt",
        "outputId": "986d7f1e-5bdf-429c-e657-1f075f9d8884"
      },
      "execution_count": null,
      "outputs": [
        {
          "output_type": "stream",
          "name": "stdout",
          "text": [
            "329/329 [==============================] - 1s 3ms/step - loss: 7385.3857 - accuracy: 0.9036\n"
          ]
        }
      ]
    },
    {
      "cell_type": "code",
      "source": [
        "print('Test loss:', score[0])\n",
        "print('Test accuracy:', score[1])"
      ],
      "metadata": {
        "colab": {
          "base_uri": "https://localhost:8080/"
        },
        "id": "rjBcQkXu9ShJ",
        "outputId": "61eb8290-6f3c-42ee-e67b-1e5f0e008ab2"
      },
      "execution_count": null,
      "outputs": [
        {
          "output_type": "stream",
          "name": "stdout",
          "text": [
            "Test loss: 7385.3857421875\n",
            "Test accuracy: 0.9036190509796143\n"
          ]
        }
      ]
    },
    {
      "cell_type": "code",
      "source": [
        "pd.DataFrame(history.history).plot(figsize=(8, 5))\n",
        "plt.grid(True)\n",
        "plt.gca().set_ylim(0, 1)\n",
        "plt.show()"
      ],
      "metadata": {
        "colab": {
          "base_uri": "https://localhost:8080/",
          "height": 451
        },
        "id": "dc9mRJx6FcxT",
        "outputId": "7b56de49-34e5-411b-e080-2c4b9224cfdc"
      },
      "execution_count": null,
      "outputs": [
        {
          "output_type": "display_data",
          "data": {
            "text/plain": [
              "<Figure size 800x500 with 1 Axes>"
            ],
            "image/png": "[encoded data removed]"
          },
          "metadata": {}
        }
      ]
    },
    {
      "cell_type": "markdown",
      "source": [
        "\n",
        "Additionally, I have reconfigured the model architecture to incorporate multiple layers and techniques for better model performance. The updated model employs a sequential structure and starts with a flattening layer to transform the input data. It then features several densely connected layers with varying units and activation functions like ReLU. Batch normalization and dropout layers are added to stabilize and regularize the model. These changes aim to improve the model's accuracy and ability to generalize effectively on the data"
      ],
      "metadata": {
        "id": "4NnHPDGdMVJ_"
      }
    },
    {
      "cell_type": "code",
      "source": [
        "keras.backend.clear_session()\n",
        "np.random.seed(42)\n",
        "tf.random.set_seed(42)\n",
        "\n",
        "model = Sequential()\n",
        "model.add(Flatten())\n",
        "model.add(Dense(units = 8192,activation = 'relu',input_shape=(28, 28)))\n",
        "model.add(Dense(units = 2048, activation = 'relu'))\n",
        "model.add(BatchNormalization())\n",
        "model.add(Dropout(0.5))\n",
        "model.add(Dense(units = 512, activation = 'relu'))\n",
        "model.add(BatchNormalization())\n",
        "model.add(Dropout(0.5))\n",
        "model.add(Dense(units = 128, activation = 'relu'))\n",
        "model.add(Dense(units = 32, activation = 'relu'))\n",
        "model.add(Dense(units = 10, activation = 'softmax'))\n",
        "\n",
        "early_stopping = EarlyStopping(min_delta = 0.001,patience = 20,restore_best_weights = True,verbose = 0)"
      ],
      "metadata": {
        "id": "LhNJyQ639mxt"
      },
      "execution_count": null,
      "outputs": []
    },
    {
      "cell_type": "code",
      "source": [
        "model.compile(optimizer='adam',\n",
        "              loss='sparse_categorical_crossentropy',\n",
        "              metrics=['accuracy'])"
      ],
      "metadata": {
        "id": "XKRRpjyZ-HK9"
      },
      "execution_count": null,
      "outputs": []
    },
    {
      "cell_type": "code",
      "source": [
        "history = model.fit(X_train, y_train, batch_size = 256,epochs=50,\n",
        "                    callbacks = [early_stopping],\n",
        "                    validation_data=(X_valid, y_valid))"
      ],
      "metadata": {
        "colab": {
          "base_uri": "https://localhost:8080/"
        },
        "id": "qqG6NFG7-MSa",
        "outputId": "ad52df07-49e4-415c-f91d-394f8f1e9641"
      },
      "execution_count": null,
      "outputs": [
        {
          "output_type": "stream",
          "name": "stdout",
          "text": [
            "Epoch 1/50\n",
            "99/99 [==============================] - 98s 988ms/step - loss: 0.2978 - accuracy: 0.9102 - val_loss: 0.1997 - val_accuracy: 0.9417\n",
            "Epoch 2/50\n",
            "99/99 [==============================] - 113s 1s/step - loss: 0.1664 - accuracy: 0.9498 - val_loss: 0.1569 - val_accuracy: 0.9513\n",
            "Epoch 3/50\n",
            "99/99 [==============================] - 119s 1s/step - loss: 0.1140 - accuracy: 0.9644 - val_loss: 0.1842 - val_accuracy: 0.9452\n",
            "Epoch 4/50\n",
            "99/99 [==============================] - 98s 995ms/step - loss: 0.0897 - accuracy: 0.9711 - val_loss: 0.1421 - val_accuracy: 0.9576\n",
            "Epoch 5/50\n",
            "99/99 [==============================] - 90s 914ms/step - loss: 0.0669 - accuracy: 0.9786 - val_loss: 0.1318 - val_accuracy: 0.9627\n",
            "Epoch 6/50\n",
            "99/99 [==============================] - 99s 1s/step - loss: 0.0542 - accuracy: 0.9831 - val_loss: 0.1332 - val_accuracy: 0.9656\n",
            "Epoch 7/50\n",
            "99/99 [==============================] - 96s 969ms/step - loss: 0.0460 - accuracy: 0.9844 - val_loss: 0.1105 - val_accuracy: 0.9703\n",
            "Epoch 8/50\n",
            "99/99 [==============================] - 95s 958ms/step - loss: 0.0410 - accuracy: 0.9871 - val_loss: 0.1123 - val_accuracy: 0.9697\n",
            "Epoch 9/50\n",
            "99/99 [==============================] - 102s 1s/step - loss: 0.0340 - accuracy: 0.9889 - val_loss: 0.1163 - val_accuracy: 0.9703\n",
            "Epoch 10/50\n",
            "99/99 [==============================] - 92s 932ms/step - loss: 0.0314 - accuracy: 0.9899 - val_loss: 0.1705 - val_accuracy: 0.9630\n",
            "Epoch 11/50\n",
            "99/99 [==============================] - 91s 917ms/step - loss: 0.0292 - accuracy: 0.9904 - val_loss: 0.1189 - val_accuracy: 0.9717\n",
            "Epoch 12/50\n",
            "99/99 [==============================] - 91s 918ms/step - loss: 0.0214 - accuracy: 0.9933 - val_loss: 0.1288 - val_accuracy: 0.9708\n",
            "Epoch 13/50\n",
            "99/99 [==============================] - 90s 915ms/step - loss: 0.0215 - accuracy: 0.9933 - val_loss: 0.1091 - val_accuracy: 0.9719\n",
            "Epoch 14/50\n",
            "99/99 [==============================] - 95s 962ms/step - loss: 0.0177 - accuracy: 0.9943 - val_loss: 0.1177 - val_accuracy: 0.9733\n",
            "Epoch 15/50\n",
            "99/99 [==============================] - 91s 916ms/step - loss: 0.0184 - accuracy: 0.9940 - val_loss: 0.1087 - val_accuracy: 0.9749\n",
            "Epoch 16/50\n",
            "99/99 [==============================] - 91s 917ms/step - loss: 0.0195 - accuracy: 0.9942 - val_loss: 0.1229 - val_accuracy: 0.9727\n",
            "Epoch 17/50\n",
            "99/99 [==============================] - 90s 913ms/step - loss: 0.0153 - accuracy: 0.9951 - val_loss: 0.1233 - val_accuracy: 0.9730\n",
            "Epoch 18/50\n",
            "99/99 [==============================] - 95s 960ms/step - loss: 0.0253 - accuracy: 0.9919 - val_loss: 0.1190 - val_accuracy: 0.9719\n",
            "Epoch 19/50\n",
            "99/99 [==============================] - 91s 917ms/step - loss: 0.0155 - accuracy: 0.9952 - val_loss: 0.1587 - val_accuracy: 0.9690\n",
            "Epoch 20/50\n",
            "99/99 [==============================] - 91s 920ms/step - loss: 0.0197 - accuracy: 0.9935 - val_loss: 0.1133 - val_accuracy: 0.9730\n",
            "Epoch 21/50\n",
            "99/99 [==============================] - 92s 929ms/step - loss: 0.0112 - accuracy: 0.9966 - val_loss: 0.1118 - val_accuracy: 0.9779\n",
            "Epoch 22/50\n",
            "99/99 [==============================] - 91s 920ms/step - loss: 0.0074 - accuracy: 0.9975 - val_loss: 0.0946 - val_accuracy: 0.9795\n",
            "Epoch 23/50\n",
            "99/99 [==============================] - 96s 966ms/step - loss: 0.0089 - accuracy: 0.9972 - val_loss: 0.1307 - val_accuracy: 0.9748\n",
            "Epoch 24/50\n",
            "99/99 [==============================] - 93s 946ms/step - loss: 0.0132 - accuracy: 0.9960 - val_loss: 0.1057 - val_accuracy: 0.9781\n",
            "Epoch 25/50\n",
            "99/99 [==============================] - 100s 1s/step - loss: 0.0096 - accuracy: 0.9971 - val_loss: 0.1328 - val_accuracy: 0.9746\n",
            "Epoch 26/50\n",
            "99/99 [==============================] - 93s 941ms/step - loss: 0.0075 - accuracy: 0.9976 - val_loss: 0.1047 - val_accuracy: 0.9808\n",
            "Epoch 27/50\n",
            "99/99 [==============================] - 97s 977ms/step - loss: 0.0090 - accuracy: 0.9969 - val_loss: 0.1184 - val_accuracy: 0.9749\n",
            "Epoch 28/50\n",
            "99/99 [==============================] - 97s 975ms/step - loss: 0.0148 - accuracy: 0.9954 - val_loss: 0.1507 - val_accuracy: 0.9698\n",
            "Epoch 29/50\n",
            "99/99 [==============================] - 94s 953ms/step - loss: 0.0162 - accuracy: 0.9952 - val_loss: 0.1064 - val_accuracy: 0.9770\n",
            "Epoch 30/50\n",
            "99/99 [==============================] - 94s 954ms/step - loss: 0.0071 - accuracy: 0.9977 - val_loss: 0.1193 - val_accuracy: 0.9754\n",
            "Epoch 31/50\n",
            "99/99 [==============================] - 97s 980ms/step - loss: 0.0095 - accuracy: 0.9971 - val_loss: 0.1366 - val_accuracy: 0.9733\n",
            "Epoch 32/50\n",
            "99/99 [==============================] - 96s 963ms/step - loss: 0.0082 - accuracy: 0.9971 - val_loss: 0.1534 - val_accuracy: 0.9702\n",
            "Epoch 33/50\n",
            "99/99 [==============================] - 96s 967ms/step - loss: 0.0110 - accuracy: 0.9967 - val_loss: 0.1593 - val_accuracy: 0.9683\n",
            "Epoch 34/50\n",
            "99/99 [==============================] - 97s 982ms/step - loss: 0.0127 - accuracy: 0.9960 - val_loss: 0.1440 - val_accuracy: 0.9713\n",
            "Epoch 35/50\n",
            "99/99 [==============================] - 102s 1s/step - loss: 0.0100 - accuracy: 0.9970 - val_loss: 0.1140 - val_accuracy: 0.9749\n",
            "Epoch 36/50\n",
            "99/99 [==============================] - 98s 988ms/step - loss: 0.0060 - accuracy: 0.9982 - val_loss: 0.1144 - val_accuracy: 0.9770\n",
            "Epoch 37/50\n",
            "99/99 [==============================] - 98s 988ms/step - loss: 0.0060 - accuracy: 0.9982 - val_loss: 0.1394 - val_accuracy: 0.9735\n",
            "Epoch 38/50\n",
            "99/99 [==============================] - 103s 1s/step - loss: 0.0096 - accuracy: 0.9974 - val_loss: 0.1084 - val_accuracy: 0.9778\n",
            "Epoch 39/50\n",
            "99/99 [==============================] - 96s 969ms/step - loss: 0.0082 - accuracy: 0.9976 - val_loss: 0.1051 - val_accuracy: 0.9792\n",
            "Epoch 40/50\n",
            "99/99 [==============================] - 98s 988ms/step - loss: 0.0096 - accuracy: 0.9969 - val_loss: 0.1229 - val_accuracy: 0.9762\n",
            "Epoch 41/50\n",
            "99/99 [==============================] - 97s 973ms/step - loss: 0.0064 - accuracy: 0.9982 - val_loss: 0.1565 - val_accuracy: 0.9716\n",
            "Epoch 42/50\n",
            "99/99 [==============================] - 97s 985ms/step - loss: 0.0037 - accuracy: 0.9989 - val_loss: 0.1290 - val_accuracy: 0.9746\n"
          ]
        }
      ]
    },
    {
      "cell_type": "code",
      "source": [
        "score = model.evaluate(X_test, y_test)"
      ],
      "metadata": {
        "colab": {
          "base_uri": "https://localhost:8080/"
        },
        "outputId": "ac3a7618-1dae-4934-98fc-d4ae4a1a1e12",
        "id": "1RWLkmM6ZWaK"
      },
      "execution_count": null,
      "outputs": [
        {
          "output_type": "stream",
          "name": "stdout",
          "text": [
            "329/329 [==============================] - 11s 32ms/step - loss: 84.4648 - accuracy: 0.8709\n"
          ]
        }
      ]
    },
    {
      "cell_type": "code",
      "source": [
        "print('Test loss:', score[0])\n",
        "print('Test accuracy:', score[1])"
      ],
      "metadata": {
        "colab": {
          "base_uri": "https://localhost:8080/"
        },
        "outputId": "886a914d-11f8-40a5-c6d5-fd8cc645a944",
        "id": "T9wnhgv1ZWaM"
      },
      "execution_count": null,
      "outputs": [
        {
          "output_type": "stream",
          "name": "stdout",
          "text": [
            "Test loss: 84.46483612060547\n",
            "Test accuracy: 0.8708571195602417\n"
          ]
        }
      ]
    },
    {
      "cell_type": "code",
      "source": [
        "pd.DataFrame(history.history).plot(figsize=(8, 5))\n",
        "plt.grid(True)\n",
        "plt.gca().set_ylim(0, 1)\n",
        "plt.show()"
      ],
      "metadata": {
        "colab": {
          "base_uri": "https://localhost:8080/",
          "height": 451
        },
        "outputId": "ca980544-7a69-4b77-9245-8ee44776b6f9",
        "id": "Bli81iaBZWaM"
      },
      "execution_count": null,
      "outputs": [
        {
          "output_type": "display_data",
          "data": {
            "text/plain": [
              "<Figure size 800x500 with 1 Axes>"
            ],
            "image/png": "[encoded data removed]"
          },
          "metadata": {}
        }
      ]
    },
    {
      "cell_type": "markdown",
      "source": [
        "I've also experimented with custom activation functions and initializers to further fine-tune the model's performance. Specifically, I implemented a custom Exponential Linear Unit (ELU) activation function, which helps address vanishing gradient issues, and a custom He Normal initializer, which is known for its effectiveness in deep neural networks. These adjustments are aimed at enhancing the model's training and generalization capabilities."
      ],
      "metadata": {
        "id": "ec-22FPuOHHo"
      }
    },
    {
      "cell_type": "code",
      "source": [
        "def custom_elu(x):\n",
        "    return tf.where(x > 0, x, tf.exp(x) - 1)"
      ],
      "metadata": {
        "id": "ntQMzdblGUmz"
      },
      "execution_count": null,
      "outputs": []
    },
    {
      "cell_type": "code",
      "source": [
        "def custom_he_normal(shape, dtype=None):\n",
        "    stddev = tf.sqrt(2. / shape[-2])\n",
        "    return tf.random.normal(shape, mean=0.0, stddev=stddev, dtype=dtype)"
      ],
      "metadata": {
        "id": "GDaErQwvIZf1"
      },
      "execution_count": null,
      "outputs": []
    },
    {
      "cell_type": "code",
      "source": [
        "def my_l1_regularizer(weights):\n",
        "    return tf.reduce_sum(tf.abs(0.01 * weights))"
      ],
      "metadata": {
        "id": "l7WmtQwkK3LR"
      },
      "execution_count": null,
      "outputs": []
    },
    {
      "cell_type": "code",
      "source": [
        "def my_positive_weights(weights): # return value is just tf.nn.relu(weights)\n",
        "    return tf.where(weights < 0., tf.zeros_like(weights), weights)"
      ],
      "metadata": {
        "id": "l38DtKBSK52w"
      },
      "execution_count": null,
      "outputs": []
    },
    {
      "cell_type": "code",
      "source": [
        "keras.backend.clear_session()\n",
        "np.random.seed(42)\n",
        "tf.random.set_seed(42)\n"
      ],
      "metadata": {
        "id": "Kpcg3ayVGR81"
      },
      "execution_count": null,
      "outputs": []
    },
    {
      "cell_type": "code",
      "source": [
        "model = keras.models.Sequential([\n",
        "    keras.layers.Flatten(input_shape=X_train.shape[1:]),\n",
        "    keras.layers.Dense(30, activation=custom_elu, kernel_initializer=custom_he_normal),\n",
        "    keras.layers.Dense(124, activation=custom_elu,\n",
        "                       kernel_regularizer=my_l1_regularizer,\n",
        "                       kernel_constraint=my_positive_weights,\n",
        "                       kernel_initializer=custom_he_normal),\n",
        "    keras.layers.Dense(64, activation=custom_elu,\n",
        "                       kernel_regularizer=my_l1_regularizer,\n",
        "                       kernel_constraint=my_positive_weights,\n",
        "                       kernel_initializer=custom_he_normal),\n",
        "    keras.layers.Dense(10, activation='softmax')\n",
        "])"
      ],
      "metadata": {
        "id": "cD5ZEOXGIgd9"
      },
      "execution_count": null,
      "outputs": []
    },
    {
      "cell_type": "code",
      "source": [
        "model.compile(optimizer='adam',\n",
        "              loss='sparse_categorical_crossentropy',\n",
        "              metrics=['accuracy'])"
      ],
      "metadata": {
        "id": "d-MhJBeZIn3B"
      },
      "execution_count": null,
      "outputs": []
    },
    {
      "cell_type": "code",
      "source": [
        "history = model.fit(X_train, y_train, batch_size = 64,epochs=50,\n",
        "                    callbacks = [early_stopping],\n",
        "                    validation_data=(X_valid, y_valid))"
      ],
      "metadata": {
        "id": "yG1VWdBrIn3C",
        "colab": {
          "base_uri": "https://localhost:8080/"
        },
        "outputId": "2f141f66-c62b-4208-9f90-59f1649e9850"
      },
      "execution_count": null,
      "outputs": [
        {
          "output_type": "stream",
          "name": "stdout",
          "text": [
            "Epoch 1/50\n",
            "394/394 [==============================] - 3s 5ms/step - loss: 4.0651 - accuracy: 0.7001 - val_loss: 1.5063 - val_accuracy: 0.8462\n",
            "Epoch 2/50\n",
            "394/394 [==============================] - 1s 4ms/step - loss: 1.0513 - accuracy: 0.8644 - val_loss: 0.8255 - val_accuracy: 0.8792\n",
            "Epoch 3/50\n",
            "394/394 [==============================] - 1s 3ms/step - loss: 0.7455 - accuracy: 0.8869 - val_loss: 0.6804 - val_accuracy: 0.8930\n",
            "Epoch 4/50\n",
            "394/394 [==============================] - 1s 3ms/step - loss: 0.6379 - accuracy: 0.8954 - val_loss: 0.6157 - val_accuracy: 0.8992\n",
            "Epoch 5/50\n",
            "394/394 [==============================] - 1s 2ms/step - loss: 0.5816 - accuracy: 0.9036 - val_loss: 0.5725 - val_accuracy: 0.9022\n",
            "Epoch 6/50\n",
            "394/394 [==============================] - 1s 3ms/step - loss: 0.5419 - accuracy: 0.9094 - val_loss: 0.5468 - val_accuracy: 0.9063\n",
            "Epoch 7/50\n",
            "394/394 [==============================] - 1s 3ms/step - loss: 0.5138 - accuracy: 0.9131 - val_loss: 0.5256 - val_accuracy: 0.9103\n",
            "Epoch 8/50\n",
            "394/394 [==============================] - 1s 3ms/step - loss: 0.4895 - accuracy: 0.9159 - val_loss: 0.5064 - val_accuracy: 0.9113\n",
            "Epoch 9/50\n",
            "394/394 [==============================] - 1s 3ms/step - loss: 0.4700 - accuracy: 0.9199 - val_loss: 0.4915 - val_accuracy: 0.9141\n",
            "Epoch 10/50\n",
            "394/394 [==============================] - 1s 3ms/step - loss: 0.4537 - accuracy: 0.9217 - val_loss: 0.4757 - val_accuracy: 0.9178\n",
            "Epoch 11/50\n",
            "394/394 [==============================] - 1s 3ms/step - loss: 0.4393 - accuracy: 0.9242 - val_loss: 0.4642 - val_accuracy: 0.9165\n",
            "Epoch 12/50\n",
            "394/394 [==============================] - 1s 4ms/step - loss: 0.4273 - accuracy: 0.9273 - val_loss: 0.4545 - val_accuracy: 0.9184\n",
            "Epoch 13/50\n",
            "394/394 [==============================] - 2s 4ms/step - loss: 0.4167 - accuracy: 0.9292 - val_loss: 0.4437 - val_accuracy: 0.9230\n",
            "Epoch 14/50\n",
            "394/394 [==============================] - 1s 3ms/step - loss: 0.4070 - accuracy: 0.9307 - val_loss: 0.4466 - val_accuracy: 0.9213\n",
            "Epoch 15/50\n",
            "394/394 [==============================] - 1s 3ms/step - loss: 0.3972 - accuracy: 0.9308 - val_loss: 0.4317 - val_accuracy: 0.9222\n",
            "Epoch 16/50\n",
            "394/394 [==============================] - 1s 3ms/step - loss: 0.3903 - accuracy: 0.9324 - val_loss: 0.4283 - val_accuracy: 0.9224\n",
            "Epoch 17/50\n",
            "394/394 [==============================] - 1s 2ms/step - loss: 0.3823 - accuracy: 0.9345 - val_loss: 0.4216 - val_accuracy: 0.9243\n",
            "Epoch 18/50\n",
            "394/394 [==============================] - 1s 3ms/step - loss: 0.3751 - accuracy: 0.9360 - val_loss: 0.4217 - val_accuracy: 0.9221\n",
            "Epoch 19/50\n",
            "394/394 [==============================] - 1s 3ms/step - loss: 0.3698 - accuracy: 0.9356 - val_loss: 0.4162 - val_accuracy: 0.9224\n",
            "Epoch 20/50\n",
            "394/394 [==============================] - 1s 3ms/step - loss: 0.3644 - accuracy: 0.9374 - val_loss: 0.4107 - val_accuracy: 0.9257\n",
            "Epoch 21/50\n",
            "394/394 [==============================] - 1s 3ms/step - loss: 0.3591 - accuracy: 0.9385 - val_loss: 0.4089 - val_accuracy: 0.9240\n",
            "Epoch 22/50\n",
            "394/394 [==============================] - 1s 3ms/step - loss: 0.3535 - accuracy: 0.9373 - val_loss: 0.4021 - val_accuracy: 0.9257\n",
            "Epoch 23/50\n",
            "394/394 [==============================] - 1s 3ms/step - loss: 0.3491 - accuracy: 0.9391 - val_loss: 0.3980 - val_accuracy: 0.9237\n",
            "Epoch 24/50\n",
            "394/394 [==============================] - 1s 3ms/step - loss: 0.3444 - accuracy: 0.9394 - val_loss: 0.3960 - val_accuracy: 0.9271\n",
            "Epoch 25/50\n",
            "394/394 [==============================] - 1s 3ms/step - loss: 0.3398 - accuracy: 0.9412 - val_loss: 0.3974 - val_accuracy: 0.9237\n",
            "Epoch 26/50\n",
            "394/394 [==============================] - 1s 3ms/step - loss: 0.3351 - accuracy: 0.9419 - val_loss: 0.3955 - val_accuracy: 0.9256\n",
            "Epoch 27/50\n",
            "394/394 [==============================] - 1s 3ms/step - loss: 0.3310 - accuracy: 0.9424 - val_loss: 0.3946 - val_accuracy: 0.9260\n",
            "Epoch 28/50\n",
            "394/394 [==============================] - 1s 3ms/step - loss: 0.3283 - accuracy: 0.9427 - val_loss: 0.3865 - val_accuracy: 0.9268\n",
            "Epoch 29/50\n",
            "394/394 [==============================] - 1s 3ms/step - loss: 0.3249 - accuracy: 0.9436 - val_loss: 0.3797 - val_accuracy: 0.9283\n",
            "Epoch 30/50\n",
            "394/394 [==============================] - 1s 3ms/step - loss: 0.3213 - accuracy: 0.9438 - val_loss: 0.3834 - val_accuracy: 0.9295\n",
            "Epoch 31/50\n",
            "394/394 [==============================] - 1s 3ms/step - loss: 0.3138 - accuracy: 0.9472 - val_loss: 0.3745 - val_accuracy: 0.9300\n",
            "Epoch 32/50\n",
            "394/394 [==============================] - 1s 3ms/step - loss: 0.3116 - accuracy: 0.9462 - val_loss: 0.3792 - val_accuracy: 0.9297\n",
            "Epoch 33/50\n",
            "394/394 [==============================] - 1s 3ms/step - loss: 0.3072 - accuracy: 0.9483 - val_loss: 0.3802 - val_accuracy: 0.9273\n",
            "Epoch 34/50\n",
            "394/394 [==============================] - 1s 3ms/step - loss: 0.3039 - accuracy: 0.9485 - val_loss: 0.3661 - val_accuracy: 0.9306\n",
            "Epoch 35/50\n",
            "394/394 [==============================] - 1s 4ms/step - loss: 0.3000 - accuracy: 0.9483 - val_loss: 0.3712 - val_accuracy: 0.9286\n",
            "Epoch 36/50\n",
            "394/394 [==============================] - 1s 4ms/step - loss: 0.2995 - accuracy: 0.9481 - val_loss: 0.3637 - val_accuracy: 0.9322\n",
            "Epoch 37/50\n",
            "394/394 [==============================] - 1s 3ms/step - loss: 0.2934 - accuracy: 0.9502 - val_loss: 0.3671 - val_accuracy: 0.9313\n",
            "Epoch 38/50\n",
            "394/394 [==============================] - 1s 3ms/step - loss: 0.2895 - accuracy: 0.9505 - val_loss: 0.3605 - val_accuracy: 0.9316\n",
            "Epoch 39/50\n",
            "394/394 [==============================] - 1s 3ms/step - loss: 0.2860 - accuracy: 0.9524 - val_loss: 0.3584 - val_accuracy: 0.9357\n",
            "Epoch 40/50\n",
            "394/394 [==============================] - 1s 3ms/step - loss: 0.2818 - accuracy: 0.9533 - val_loss: 0.3558 - val_accuracy: 0.9340\n",
            "Epoch 41/50\n",
            "394/394 [==============================] - 1s 3ms/step - loss: 0.2775 - accuracy: 0.9539 - val_loss: 0.3544 - val_accuracy: 0.9335\n",
            "Epoch 42/50\n",
            "394/394 [==============================] - 1s 3ms/step - loss: 0.2740 - accuracy: 0.9569 - val_loss: 0.3541 - val_accuracy: 0.9356\n",
            "Epoch 43/50\n",
            "394/394 [==============================] - 1s 3ms/step - loss: 0.2698 - accuracy: 0.9572 - val_loss: 0.3558 - val_accuracy: 0.9348\n",
            "Epoch 44/50\n",
            "394/394 [==============================] - 1s 3ms/step - loss: 0.2678 - accuracy: 0.9576 - val_loss: 0.3472 - val_accuracy: 0.9354\n",
            "Epoch 45/50\n",
            "394/394 [==============================] - 1s 4ms/step - loss: 0.2621 - accuracy: 0.9595 - val_loss: 0.3502 - val_accuracy: 0.9338\n",
            "Epoch 46/50\n",
            "394/394 [==============================] - 1s 4ms/step - loss: 0.2587 - accuracy: 0.9600 - val_loss: 0.3444 - val_accuracy: 0.9365\n",
            "Epoch 47/50\n",
            "394/394 [==============================] - 1s 3ms/step - loss: 0.2568 - accuracy: 0.9607 - val_loss: 0.3432 - val_accuracy: 0.9386\n",
            "Epoch 48/50\n",
            "394/394 [==============================] - 1s 3ms/step - loss: 0.2511 - accuracy: 0.9620 - val_loss: 0.3374 - val_accuracy: 0.9381\n",
            "Epoch 49/50\n",
            "394/394 [==============================] - 1s 3ms/step - loss: 0.2486 - accuracy: 0.9628 - val_loss: 0.3358 - val_accuracy: 0.9367\n",
            "Epoch 50/50\n",
            "394/394 [==============================] - 1s 3ms/step - loss: 0.2452 - accuracy: 0.9641 - val_loss: 0.3357 - val_accuracy: 0.9383\n"
          ]
        }
      ]
    },
    {
      "cell_type": "code",
      "source": [
        "score = model.evaluate(test_set, steps=len(X_test) // batch_size)"
      ],
      "metadata": {
        "id": "4V-8YPfjIn3D",
        "colab": {
          "base_uri": "https://localhost:8080/"
        },
        "outputId": "d82340da-a370-450e-a0dd-6ca72853b4dd"
      },
      "execution_count": null,
      "outputs": [
        {
          "output_type": "stream",
          "name": "stdout",
          "text": [
            "82/82 [==============================] - 1s 13ms/step - loss: 1095.7107 - accuracy: 0.6139\n"
          ]
        }
      ]
    },
    {
      "cell_type": "code",
      "source": [
        "print('Test loss:', score[0])\n",
        "print('Test accuracy:', score[1])"
      ],
      "metadata": {
        "id": "6gRB3bJ1In3D",
        "colab": {
          "base_uri": "https://localhost:8080/"
        },
        "outputId": "a502e148-8ee5-43e9-b7c7-67fad2c70510"
      },
      "execution_count": null,
      "outputs": [
        {
          "output_type": "stream",
          "name": "stdout",
          "text": [
            "Test loss: 1095.710693359375\n",
            "Test accuracy: 0.6139481663703918\n"
          ]
        }
      ]
    },
    {
      "cell_type": "code",
      "source": [
        "pd.DataFrame(history.history).plot(figsize=(8, 5))\n",
        "plt.grid(True)\n",
        "plt.gca().set_ylim(0, 1)\n",
        "plt.show()"
      ],
      "metadata": {
        "id": "lkdJ_WNVIn3J",
        "colab": {
          "base_uri": "https://localhost:8080/",
          "height": 451
        },
        "outputId": "1b68b22d-fabd-412c-cfc6-7830322dcd97"
      },
      "execution_count": null,
      "outputs": [
        {
          "output_type": "display_data",
          "data": {
            "text/plain": [
              "<Figure size 800x500 with 1 Axes>"
            ],
            "image/png": "[encoded data removed]"
          },
          "metadata": {}
        }
      ]
    },
    {
      "cell_type": "markdown",
      "source": [
        "I have now implemented a Convolutional Neural Network (CNN) model for image classification, specifically designed for tasks like digit recognition. The code preprocesses and prepares the data, splits it into training and validation sets, defines a CNN architecture, compiles the model, and trains it for 50 epochs. This approach leverages the power of CNNs for image-based tasks."
      ],
      "metadata": {
        "id": "h73iKR9QeBSd"
      }
    },
    {
      "cell_type": "code",
      "source": [
        "X.isnull().any().describe()"
      ],
      "metadata": {
        "colab": {
          "base_uri": "https://localhost:8080/"
        },
        "id": "uu8f7h0lTGJL",
        "outputId": "955da086-8ef9-4944-97a9-b78e471f3aec"
      },
      "execution_count": null,
      "outputs": [
        {
          "output_type": "execute_result",
          "data": {
            "text/plain": [
              "count       784\n",
              "unique        1\n",
              "top       False\n",
              "freq        784\n",
              "dtype: object"
            ]
          },
          "metadata": {},
          "execution_count": 82
        }
      ]
    },
    {
      "cell_type": "code",
      "source": [
        "digits_test.isnull().any().describe()"
      ],
      "metadata": {
        "colab": {
          "base_uri": "https://localhost:8080/"
        },
        "id": "jMgi1zcOUbIa",
        "outputId": "d56e7681-8246-4bb8-d54c-cffacf24ffa8"
      },
      "execution_count": null,
      "outputs": [
        {
          "output_type": "execute_result",
          "data": {
            "text/plain": [
              "count       784\n",
              "unique        1\n",
              "top       False\n",
              "freq        784\n",
              "dtype: object"
            ]
          },
          "metadata": {},
          "execution_count": 83
        }
      ]
    },
    {
      "cell_type": "code",
      "source": [
        "X_train = X / 255.0\n",
        "test = digits_test / 255.0\n",
        "X_train = X_train.values.reshape(-1,28,28,1)\n",
        "test = test.values.reshape(-1,28,28,1)"
      ],
      "metadata": {
        "id": "55qD03qrUkQl"
      },
      "execution_count": null,
      "outputs": []
    },
    {
      "cell_type": "code",
      "source": [
        "from tensorflow.keras.utils import to_categorical\n",
        "Y_train = to_categorical(y, num_classes = 10)"
      ],
      "metadata": {
        "id": "1uJfImCVUufR"
      },
      "execution_count": null,
      "outputs": []
    },
    {
      "cell_type": "code",
      "source": [
        "random_seed = 2\n",
        "# Split the train and the validation set for the fitting\n",
        "X_train, X_val, Y_train, Y_val = train_test_split(X_train, Y_train, test_size = 0.1, random_state=random_seed)"
      ],
      "metadata": {
        "id": "niHg_e-1UxpR"
      },
      "execution_count": null,
      "outputs": []
    },
    {
      "cell_type": "code",
      "source": [
        "from keras.layers import Dense, Dropout, Flatten, Conv2D, MaxPool2D\n",
        "from keras.optimizers import RMSprop\n",
        "from keras.preprocessing.image import ImageDataGenerator\n",
        "from keras.callbacks import ReduceLROnPlateau\n",
        "\n",
        "keras.backend.clear_session()\n",
        "np.random.seed(42)\n",
        "tf.random.set_seed(42)\n",
        "\n",
        "model = Sequential()\n",
        "\n",
        "model.add(Conv2D(filters = 32, kernel_size = (5,5),padding = 'Same',\n",
        "                 activation ='relu', input_shape = (28,28,1)))\n",
        "model.add(Conv2D(filters = 32, kernel_size = (5,5),padding = 'Same',\n",
        "                 activation ='relu'))\n",
        "model.add(MaxPool2D(pool_size=(2,2)))\n",
        "model.add(Dropout(0.25))\n",
        "\n",
        "\n",
        "model.add(Conv2D(filters = 64, kernel_size = (3,3),padding = 'Same',\n",
        "                 activation ='relu'))\n",
        "model.add(Conv2D(filters = 64, kernel_size = (3,3),padding = 'Same',\n",
        "                 activation ='relu'))\n",
        "model.add(MaxPool2D(pool_size=(2,2), strides=(2,2)))\n",
        "model.add(Dropout(0.25))\n",
        "\n",
        "model.add(Conv2D(filters = 16, kernel_size = (1,1),padding = 'Same',\n",
        "                 activation ='relu'))\n",
        "model.add(Conv2D(filters = 16, kernel_size = (1,1),padding = 'Same',\n",
        "                 activation ='relu'))\n",
        "model.add(MaxPool2D(pool_size=(2,2), strides=(2,2)))\n",
        "model.add(Dropout(0.25))\n",
        "\n",
        "model.add(Flatten())\n",
        "model.add(Dense(256, activation = \"relu\"))\n",
        "model.add(Dropout(0.5))\n",
        "model.add(Dense(10, activation = \"softmax\"))\n"
      ],
      "metadata": {
        "id": "KQtCe891U-qh"
      },
      "execution_count": null,
      "outputs": []
    },
    {
      "cell_type": "code",
      "source": [
        "from tensorflow.keras.optimizers import RMSprop\n",
        "optimizer = RMSprop(learning_rate=0.001, rho=0.9, epsilon=1e-08)\n",
        "model.compile(optimizer=optimizer, loss=\"categorical_crossentropy\", metrics=[\"accuracy\"])\n"
      ],
      "metadata": {
        "id": "f3VhyPoNXME2"
      },
      "execution_count": null,
      "outputs": []
    },
    {
      "cell_type": "code",
      "source": [
        "history = model.fit(X_train, Y_train, epochs=30, validation_data=(X_val, Y_val))"
      ],
      "metadata": {
        "colab": {
          "base_uri": "https://localhost:8080/"
        },
        "id": "GO9lrwdKYBp4",
        "outputId": "e7304a64-10e8-4081-a456-6eefd9312d6e"
      },
      "execution_count": 89,
      "outputs": [
        {
          "output_type": "stream",
          "name": "stdout",
          "text": [
            "Epoch 1/30\n",
            "1182/1182 [==============================] - 158s 133ms/step - loss: 0.4333 - accuracy: 0.8620 - val_loss: 0.0957 - val_accuracy: 0.9714\n",
            "Epoch 2/30\n",
            "1182/1182 [==============================] - 157s 133ms/step - loss: 0.1444 - accuracy: 0.9574 - val_loss: 0.0660 - val_accuracy: 0.9783\n",
            "Epoch 3/30\n",
            "1182/1182 [==============================] - 158s 134ms/step - loss: 0.1146 - accuracy: 0.9665 - val_loss: 0.0604 - val_accuracy: 0.9821\n",
            "Epoch 4/30\n",
            "1182/1182 [==============================] - 155s 131ms/step - loss: 0.1004 - accuracy: 0.9712 - val_loss: 0.0480 - val_accuracy: 0.9862\n",
            "Epoch 5/30\n",
            "1182/1182 [==============================] - 156s 132ms/step - loss: 0.0912 - accuracy: 0.9730 - val_loss: 0.0604 - val_accuracy: 0.9821\n",
            "Epoch 6/30\n",
            "1182/1182 [==============================] - 156s 132ms/step - loss: 0.0867 - accuracy: 0.9750 - val_loss: 0.0517 - val_accuracy: 0.9852\n",
            "Epoch 7/30\n",
            "1182/1182 [==============================] - 154s 130ms/step - loss: 0.0809 - accuracy: 0.9767 - val_loss: 0.0624 - val_accuracy: 0.9824\n",
            "Epoch 8/30\n",
            "1182/1182 [==============================] - 158s 134ms/step - loss: 0.0777 - accuracy: 0.9783 - val_loss: 0.0472 - val_accuracy: 0.9860\n",
            "Epoch 9/30\n",
            "1182/1182 [==============================] - 158s 134ms/step - loss: 0.0809 - accuracy: 0.9779 - val_loss: 0.0407 - val_accuracy: 0.9895\n",
            "Epoch 10/30\n",
            "1182/1182 [==============================] - 154s 131ms/step - loss: 0.0769 - accuracy: 0.9791 - val_loss: 0.0513 - val_accuracy: 0.9857\n",
            "Epoch 11/30\n",
            "1182/1182 [==============================] - 148s 125ms/step - loss: 0.0740 - accuracy: 0.9788 - val_loss: 0.0471 - val_accuracy: 0.9860\n",
            "Epoch 12/30\n",
            "1182/1182 [==============================] - 151s 127ms/step - loss: 0.0720 - accuracy: 0.9805 - val_loss: 0.0674 - val_accuracy: 0.9860\n",
            "Epoch 13/30\n",
            "1182/1182 [==============================] - 154s 131ms/step - loss: 0.0706 - accuracy: 0.9806 - val_loss: 0.0462 - val_accuracy: 0.9893\n",
            "Epoch 14/30\n",
            "1182/1182 [==============================] - 148s 125ms/step - loss: 0.0729 - accuracy: 0.9806 - val_loss: 0.0489 - val_accuracy: 0.9886\n",
            "Epoch 15/30\n",
            "1182/1182 [==============================] - 151s 127ms/step - loss: 0.0720 - accuracy: 0.9811 - val_loss: 0.0375 - val_accuracy: 0.9883\n",
            "Epoch 16/30\n",
            "1182/1182 [==============================] - 151s 127ms/step - loss: 0.0716 - accuracy: 0.9813 - val_loss: 0.0462 - val_accuracy: 0.9888\n",
            "Epoch 17/30\n",
            "1182/1182 [==============================] - 150s 127ms/step - loss: 0.0702 - accuracy: 0.9809 - val_loss: 0.0494 - val_accuracy: 0.9876\n",
            "Epoch 18/30\n",
            "1182/1182 [==============================] - 148s 125ms/step - loss: 0.0696 - accuracy: 0.9817 - val_loss: 0.0345 - val_accuracy: 0.9883\n",
            "Epoch 19/30\n",
            "1182/1182 [==============================] - 148s 125ms/step - loss: 0.0654 - accuracy: 0.9827 - val_loss: 0.0397 - val_accuracy: 0.9893\n",
            "Epoch 20/30\n",
            "1182/1182 [==============================] - 149s 126ms/step - loss: 0.0661 - accuracy: 0.9819 - val_loss: 0.0418 - val_accuracy: 0.9879\n",
            "Epoch 21/30\n",
            "1182/1182 [==============================] - 149s 126ms/step - loss: 0.0728 - accuracy: 0.9813 - val_loss: 0.0954 - val_accuracy: 0.9736\n",
            "Epoch 22/30\n",
            "1182/1182 [==============================] - 155s 131ms/step - loss: 0.0709 - accuracy: 0.9820 - val_loss: 0.0454 - val_accuracy: 0.9886\n",
            "Epoch 23/30\n",
            "1182/1182 [==============================] - 154s 130ms/step - loss: 0.0721 - accuracy: 0.9816 - val_loss: 0.0400 - val_accuracy: 0.9890\n",
            "Epoch 24/30\n",
            "1182/1182 [==============================] - 153s 129ms/step - loss: 0.0692 - accuracy: 0.9818 - val_loss: 0.0702 - val_accuracy: 0.9812\n",
            "Epoch 25/30\n",
            "1182/1182 [==============================] - 153s 129ms/step - loss: 0.0723 - accuracy: 0.9811 - val_loss: 0.0493 - val_accuracy: 0.9874\n",
            "Epoch 26/30\n",
            "1182/1182 [==============================] - 153s 130ms/step - loss: 0.0704 - accuracy: 0.9808 - val_loss: 0.0481 - val_accuracy: 0.9881\n",
            "Epoch 27/30\n",
            "1182/1182 [==============================] - 153s 129ms/step - loss: 0.0718 - accuracy: 0.9813 - val_loss: 0.0434 - val_accuracy: 0.9890\n",
            "Epoch 28/30\n",
            "1182/1182 [==============================] - 154s 131ms/step - loss: 0.0732 - accuracy: 0.9822 - val_loss: 0.0523 - val_accuracy: 0.9883\n",
            "Epoch 29/30\n",
            "1182/1182 [==============================] - 153s 129ms/step - loss: 0.0711 - accuracy: 0.9816 - val_loss: 0.0514 - val_accuracy: 0.9855\n",
            "Epoch 30/30\n",
            "1182/1182 [==============================] - 154s 130ms/step - loss: 0.0774 - accuracy: 0.9806 - val_loss: 0.0503 - val_accuracy: 0.9871\n"
          ]
        }
      ]
    },
    {
      "cell_type": "code",
      "source": [
        "score = model.evaluate(X_val, Y_val)"
      ],
      "metadata": {
        "colab": {
          "base_uri": "https://localhost:8080/"
        },
        "outputId": "8fb6d613-5212-4279-e765-06a7fa8c67b0",
        "id": "_JYW9miqyQaq"
      },
      "execution_count": 93,
      "outputs": [
        {
          "output_type": "stream",
          "name": "stdout",
          "text": [
            "132/132 [==============================] - 7s 50ms/step - loss: 0.0503 - accuracy: 0.9871\n"
          ]
        }
      ]
    },
    {
      "cell_type": "code",
      "source": [
        "print('Test loss:', score[0])\n",
        "print('Test accuracy:', score[1])"
      ],
      "metadata": {
        "colab": {
          "base_uri": "https://localhost:8080/"
        },
        "outputId": "d6591df0-7db7-4a96-90f5-29f5f2ec7217",
        "id": "1BFOXMnNyQas"
      },
      "execution_count": 94,
      "outputs": [
        {
          "output_type": "stream",
          "name": "stdout",
          "text": [
            "Test loss: 0.05027713254094124\n",
            "Test accuracy: 0.9871428608894348\n"
          ]
        }
      ]
    },
    {
      "cell_type": "code",
      "source": [
        "pd.DataFrame(history.history).plot(figsize=(8, 5))\n",
        "plt.grid(True)\n",
        "plt.gca().set_ylim(0, 1)\n",
        "plt.show()"
      ],
      "metadata": {
        "colab": {
          "base_uri": "https://localhost:8080/",
          "height": 451
        },
        "outputId": "7dc7570d-db70-4922-9697-92935e686456",
        "id": "C7ByrYldyQas"
      },
      "execution_count": 95,
      "outputs": [
        {
          "output_type": "display_data",
          "data": {
            "text/plain": [
              "<Figure size 800x500 with 1 Axes>"
            ],
            "image/png": "[encoded data removed]"
          },
          "metadata": {}
        }
      ]
    },
    {
      "cell_type": "markdown",
      "source": [
        " Finally I was able to achieve 98.7% accuracy for the MNIST Digit Dataset classification task using CNN model."
      ],
      "metadata": {
        "id": "VaAfAmnmz3PY"
      }
    }
  ]
}