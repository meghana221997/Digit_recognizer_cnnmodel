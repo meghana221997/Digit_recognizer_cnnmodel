{
  "nbformat": 4,
  "nbformat_minor": 0,
  "metadata": {
    "colab": {
      "provenance": []
    },
    "kernelspec": {
      "name": "python3",
      "display_name": "Python 3"
    },
    "language_info": {
      "name": "python"
    }
  },
  "cells": [
    {
      "cell_type": "markdown",
      "source": [
        "# **Kaggle submitted code**"
      ],
      "metadata": {
        "id": "QbQUrVhOQeO4"
      }
    },
    {
      "cell_type": "markdown",
      "source": [
        "I achieved a ranking of 236 out of 1,457 groups, placing me in the top 16%.So please do consider this code."
      ],
      "metadata": {
        "id": "S3DfRuR4Qr_g"
      }
    },
    {
      "cell_type": "markdown",
      "source": [
        "I started my deep learning project by importing a range of essential libraries and modules.These imports set the stage for the various data preprocessing and model-building tasks in my project."
      ],
      "metadata": {
        "id": "NkdvUf2yTghx"
      }
    },
    {
      "cell_type": "code",
      "execution_count": 1,
      "metadata": {
        "id": "IVBoyYwRRUA4"
      },
      "outputs": [],
      "source": [
        "import os\n",
        "import tensorflow as tf\n",
        "from tensorflow import keras\n",
        "from tensorflow.keras import layers, optimizers, datasets\n",
        "from matplotlib import pyplot as plt\n",
        "from sklearn.model_selection import train_test_split\n",
        "from sklearn.preprocessing import StandardScaler\n",
        "import numpy as np\n",
        "import pandas as pd\n",
        "from tensorflow.keras.utils import to_categorical\n",
        "from keras.models import Sequential\n",
        "from keras.layers import Dense, Dropout, Flatten, Conv2D, MaxPool2D , BatchNormalization,Lambda,  MaxPooling2D\n",
        "from keras.preprocessing.image import ImageDataGenerator\n",
        "from keras.optimizers import Adam\n",
        "from keras.callbacks import LearningRateScheduler"
      ]
    },
    {
      "cell_type": "markdown",
      "source": [
        "Later I loaded the dataset from CSV files using the 'pandas' library. The 'train.csv' file,  was read into a DataFrame named 'train_df.' This file typically contains the training data required for model development. Additionally, I imported the 'test.csv' file into a DataFrame named 'test_df,' which is typically used for making predictions or testing the trained model."
      ],
      "metadata": {
        "id": "STj6jPhvT2kx"
      }
    },
    {
      "cell_type": "code",
      "source": [
        "train_df = pd.read_csv('/content/drive/MyDrive/Digit_recognizer_Dataset/train.csv')\n",
        "test_df = pd.read_csv('/content/drive/MyDrive/Digit_recognizer_Dataset/test.csv')"
      ],
      "metadata": {
        "id": "HVSQkRYD0yfD"
      },
      "execution_count": 2,
      "outputs": []
    },
    {
      "cell_type": "code",
      "source": [
        "X_train = train_df.drop(labels = [\"label\"],axis = 1)\n",
        "Y_train = train_df[\"label\"]"
      ],
      "metadata": {
        "id": "3Z5kc2fB1GZK"
      },
      "execution_count": 3,
      "outputs": []
    },
    {
      "cell_type": "markdown",
      "source": [
        "I began my data preprocessing by conducting data cleaning and quality checks. I ensured that there were no missing values in the 'X_train' DataFrame, and a similar check is performed for the 'test_df' DataFrame. Subsequently for data normalization, the pixel values in 'X_train' and 'test_df' are normalized by dividing each value by 255.0. This process scales the pixel values to a range between 0 and 1.The final stages of data preparation involved reshaping the data. 'X_train' and 'test_df' were transformed into 4D NumPy arrays with dimensions (-1, 28, 28, 1), a common format for image data in deep learning applications. Simultaneously, the target variable 'Y_train' underwent one-hot encoding using the 'to_categorical' function, with 'num_classes' set to 10. These steps collectively represent data cleaning and preprocessing"
      ],
      "metadata": {
        "id": "93zqjkZUUZSh"
      }
    },
    {
      "cell_type": "code",
      "source": [
        "X_train.isnull().any().describe()"
      ],
      "metadata": {
        "colab": {
          "base_uri": "https://localhost:8080/"
        },
        "id": "gqL28pTM1zhz",
        "outputId": "1aadb71d-cab5-406a-f5a9-66cd5f97648e"
      },
      "execution_count": 4,
      "outputs": [
        {
          "output_type": "execute_result",
          "data": {
            "text/plain": [
              "count       784\n",
              "unique        1\n",
              "top       False\n",
              "freq        784\n",
              "dtype: object"
            ]
          },
          "metadata": {},
          "execution_count": 4
        }
      ]
    },
    {
      "cell_type": "code",
      "source": [
        "test_df.isnull().any().describe()"
      ],
      "metadata": {
        "colab": {
          "base_uri": "https://localhost:8080/"
        },
        "id": "g__eCGq612vS",
        "outputId": "9e5e04db-e6c1-42be-b8cf-c6b500e5aa48"
      },
      "execution_count": 5,
      "outputs": [
        {
          "output_type": "execute_result",
          "data": {
            "text/plain": [
              "count       784\n",
              "unique        1\n",
              "top       False\n",
              "freq        784\n",
              "dtype: object"
            ]
          },
          "metadata": {},
          "execution_count": 5
        }
      ]
    },
    {
      "cell_type": "code",
      "source": [
        "X_train = X_train / 255.0\n",
        "test = test_df / 255.0"
      ],
      "metadata": {
        "id": "Dd65eqT314uC"
      },
      "execution_count": 6,
      "outputs": []
    },
    {
      "cell_type": "code",
      "source": [
        "X_train = X_train.values.reshape(-1,28,28,1)\n",
        "test = test.values.reshape(-1,28,28,1)"
      ],
      "metadata": {
        "id": "bY92cYEP1_vs"
      },
      "execution_count": 7,
      "outputs": []
    },
    {
      "cell_type": "code",
      "source": [
        "Y_train = to_categorical(Y_train, num_classes = 10)"
      ],
      "metadata": {
        "id": "Zki8uzDb2CfC"
      },
      "execution_count": 8,
      "outputs": []
    },
    {
      "cell_type": "markdown",
      "source": [
        "And also as a part of my data preprocessing, I divided the training data into two separate sets: 'X_train' and 'Y_train' for model training and 'X_val' and 'Y_val' for model validation. This was achieved using the 'train_test_split' function from Scikit-Learn"
      ],
      "metadata": {
        "id": "-YBXaIseVWbc"
      }
    },
    {
      "cell_type": "code",
      "source": [
        "X_train, X_val, Y_train, Y_val = train_test_split(X_train, Y_train, test_size = 0.1, random_state=99)"
      ],
      "metadata": {
        "id": "gd1j3m4G2auW"
      },
      "execution_count": 9,
      "outputs": []
    },
    {
      "cell_type": "code",
      "source": [
        "keras.backend.clear_session()\n",
        "np.random.seed(42)\n",
        "tf.random.set_seed(42)"
      ],
      "metadata": {
        "id": "Y8uVoplU29AX"
      },
      "execution_count": 10,
      "outputs": []
    },
    {
      "cell_type": "markdown",
      "source": [
        "I chose the Convolutional Neural Network (CNN) model using Keras. This model is constructed sequentially, beginning with a pair of convolutional layers created with model.add(Conv2D(...)).  Following each convolutional layer, max-pooling is applied to reduce spatial dimensions, and batch normalization helps stabilize and accelerate the training process. Dropout layers with a 25% dropout rate are introduced at specific points to prevent overfitting.\n",
        "\n",
        "The model is compiled with the categorical cross-entropy loss function, the Adam optimizer with a specified learning rate, and accuracy as the evaluation metric. Data augmentation is applied using the ImageDataGenerator to introduce slight transformations in the training data, enhancing model generalization. Additionally, a learning rate scheduler is employed to adjust the learning rate during training.\n",
        "\n",
        "\n",
        "\n",
        "\n"
      ],
      "metadata": {
        "id": "GexXY1tbVxXn"
      }
    },
    {
      "cell_type": "code",
      "source": [
        "model = Sequential()\n",
        "\n",
        "model.add(Conv2D(filters = 32, kernel_size = (5,5),padding = 'Same',\n",
        "                 activation ='relu', input_shape = (28,28,1)))\n",
        "model.add(Conv2D(filters = 32, kernel_size = (5,5),padding = 'Same',\n",
        "                 activation ='relu'))\n",
        "model.add(MaxPool2D(pool_size=(2,2)))\n",
        "model.add(BatchNormalization())\n",
        "model.add(Dropout(0.25))\n",
        "\n",
        "\n",
        "model.add(Conv2D(filters = 64, kernel_size = (3,3),padding = 'Same',\n",
        "                 activation ='relu'))\n",
        "model.add(Conv2D(filters = 64, kernel_size = (3,3),padding = 'Same',\n",
        "                 activation ='relu'))\n",
        "model.add(MaxPool2D(pool_size=(2,2), strides=(2,2)))\n",
        "model.add(Dropout(0.25))\n",
        "\n",
        "model.add(Conv2D(filters = 28, kernel_size = (3,3),padding = 'Same',\n",
        "                 activation ='relu'))\n",
        "model.add(Conv2D(filters = 28, kernel_size = (3,3),padding = 'Same',\n",
        "                 activation ='relu'))\n",
        "model.add(MaxPool2D(pool_size=(2,2), strides=(2,2)))\n",
        "model.add(Dropout(0.25))\n",
        "\n",
        "model.add(Flatten())\n",
        "model.add(Dense(512,activation=\"relu\"))\n",
        "model.add(Dense(256, activation = \"relu\"))\n",
        "model.add(Dropout(0.5))\n",
        "model.add(Dense(128, activation = \"relu\"))\n",
        "model.add(Dense(64, activation = \"relu\"))\n",
        "model.add(Dense(10, activation = \"softmax\"))\n",
        "\n",
        "\n"
      ],
      "metadata": {
        "id": "sJALsywG2knO"
      },
      "execution_count": 11,
      "outputs": []
    },
    {
      "cell_type": "code",
      "source": [
        "model.compile(loss='categorical_crossentropy', optimizer = Adam(learning_rate=1e-3), metrics=[\"accuracy\"])"
      ],
      "metadata": {
        "id": "KrudjXtv2vx9"
      },
      "execution_count": 12,
      "outputs": []
    },
    {
      "cell_type": "code",
      "source": [
        "datagen = ImageDataGenerator(zoom_range = 0.1,\n",
        "                            height_shift_range = 0.1,\n",
        "                            width_shift_range = 0.1,\n",
        "                            rotation_range = 10)"
      ],
      "metadata": {
        "id": "qFbT4d7f4YIj"
      },
      "execution_count": 13,
      "outputs": []
    },
    {
      "cell_type": "code",
      "source": [
        "annealer = LearningRateScheduler(lambda x: 1e-3 * 0.9 ** x)"
      ],
      "metadata": {
        "id": "vHNoRcqV4eVE"
      },
      "execution_count": 14,
      "outputs": []
    },
    {
      "cell_type": "code",
      "source": [
        "hist = model.fit(datagen.flow(X_train, Y_train, batch_size=64),\n",
        "                           steps_per_epoch=500,\n",
        "                           epochs=50, #Increase this when not on Kaggle kernel\n",
        "                           verbose=2,  #1 for ETA, 0 for silent\n",
        "                           validation_data=(X_val[:400,:], Y_val[:400,:]), #For speed\n",
        "                           callbacks=[annealer])"
      ],
      "metadata": {
        "colab": {
          "base_uri": "https://localhost:8080/"
        },
        "id": "6pitiifQ3T3m",
        "outputId": "a6a5a054-998c-438b-b371-4d2d0746761f"
      },
      "execution_count": 15,
      "outputs": [
        {
          "output_type": "stream",
          "name": "stdout",
          "text": [
            "Epoch 1/50\n",
            "500/500 - 129s - loss: 0.6076 - accuracy: 0.7958 - val_loss: 0.1727 - val_accuracy: 0.9575 - lr: 0.0010 - 129s/epoch - 259ms/step\n",
            "Epoch 2/50\n",
            "500/500 - 127s - loss: 0.1613 - accuracy: 0.9553 - val_loss: 0.0666 - val_accuracy: 0.9825 - lr: 9.0000e-04 - 127s/epoch - 255ms/step\n",
            "Epoch 3/50\n",
            "500/500 - 125s - loss: 0.1152 - accuracy: 0.9697 - val_loss: 0.0314 - val_accuracy: 0.9900 - lr: 8.1000e-04 - 125s/epoch - 250ms/step\n",
            "Epoch 4/50\n",
            "500/500 - 125s - loss: 0.1024 - accuracy: 0.9721 - val_loss: 0.0270 - val_accuracy: 0.9950 - lr: 7.2900e-04 - 125s/epoch - 250ms/step\n",
            "Epoch 5/50\n",
            "500/500 - 126s - loss: 0.0820 - accuracy: 0.9781 - val_loss: 0.0280 - val_accuracy: 0.9925 - lr: 6.5610e-04 - 126s/epoch - 253ms/step\n",
            "Epoch 6/50\n",
            "500/500 - 125s - loss: 0.0758 - accuracy: 0.9796 - val_loss: 0.0400 - val_accuracy: 0.9850 - lr: 5.9049e-04 - 125s/epoch - 249ms/step\n",
            "Epoch 7/50\n",
            "500/500 - 125s - loss: 0.0691 - accuracy: 0.9814 - val_loss: 0.0185 - val_accuracy: 0.9975 - lr: 5.3144e-04 - 125s/epoch - 250ms/step\n",
            "Epoch 8/50\n",
            "500/500 - 123s - loss: 0.0595 - accuracy: 0.9834 - val_loss: 0.0263 - val_accuracy: 0.9900 - lr: 4.7830e-04 - 123s/epoch - 247ms/step\n",
            "Epoch 9/50\n",
            "500/500 - 123s - loss: 0.0553 - accuracy: 0.9846 - val_loss: 0.0199 - val_accuracy: 0.9900 - lr: 4.3047e-04 - 123s/epoch - 245ms/step\n",
            "Epoch 10/50\n",
            "500/500 - 123s - loss: 0.0530 - accuracy: 0.9852 - val_loss: 0.0211 - val_accuracy: 0.9875 - lr: 3.8742e-04 - 123s/epoch - 245ms/step\n",
            "Epoch 11/50\n",
            "500/500 - 123s - loss: 0.0488 - accuracy: 0.9867 - val_loss: 0.0218 - val_accuracy: 0.9975 - lr: 3.4868e-04 - 123s/epoch - 247ms/step\n",
            "Epoch 12/50\n",
            "500/500 - 122s - loss: 0.0476 - accuracy: 0.9870 - val_loss: 0.0284 - val_accuracy: 0.9925 - lr: 3.1381e-04 - 122s/epoch - 245ms/step\n",
            "Epoch 13/50\n",
            "500/500 - 122s - loss: 0.0405 - accuracy: 0.9885 - val_loss: 0.0105 - val_accuracy: 0.9975 - lr: 2.8243e-04 - 122s/epoch - 245ms/step\n",
            "Epoch 14/50\n",
            "500/500 - 123s - loss: 0.0420 - accuracy: 0.9884 - val_loss: 0.0131 - val_accuracy: 0.9975 - lr: 2.5419e-04 - 123s/epoch - 247ms/step\n",
            "Epoch 15/50\n",
            "500/500 - 123s - loss: 0.0355 - accuracy: 0.9898 - val_loss: 0.0152 - val_accuracy: 0.9975 - lr: 2.2877e-04 - 123s/epoch - 245ms/step\n",
            "Epoch 16/50\n",
            "500/500 - 122s - loss: 0.0358 - accuracy: 0.9903 - val_loss: 0.0144 - val_accuracy: 0.9975 - lr: 2.0589e-04 - 122s/epoch - 245ms/step\n",
            "Epoch 17/50\n",
            "500/500 - 123s - loss: 0.0356 - accuracy: 0.9899 - val_loss: 0.0188 - val_accuracy: 0.9975 - lr: 1.8530e-04 - 123s/epoch - 247ms/step\n",
            "Epoch 18/50\n",
            "500/500 - 122s - loss: 0.0317 - accuracy: 0.9909 - val_loss: 0.0167 - val_accuracy: 0.9975 - lr: 1.6677e-04 - 122s/epoch - 245ms/step\n",
            "Epoch 19/50\n",
            "500/500 - 123s - loss: 0.0285 - accuracy: 0.9917 - val_loss: 0.0151 - val_accuracy: 0.9975 - lr: 1.5009e-04 - 123s/epoch - 245ms/step\n",
            "Epoch 20/50\n",
            "500/500 - 123s - loss: 0.0296 - accuracy: 0.9912 - val_loss: 0.0090 - val_accuracy: 0.9975 - lr: 1.3509e-04 - 123s/epoch - 247ms/step\n",
            "Epoch 21/50\n",
            "500/500 - 122s - loss: 0.0270 - accuracy: 0.9922 - val_loss: 0.0086 - val_accuracy: 0.9975 - lr: 1.2158e-04 - 122s/epoch - 245ms/step\n",
            "Epoch 22/50\n",
            "500/500 - 122s - loss: 0.0266 - accuracy: 0.9923 - val_loss: 0.0101 - val_accuracy: 0.9975 - lr: 1.0942e-04 - 122s/epoch - 245ms/step\n",
            "Epoch 23/50\n",
            "500/500 - 123s - loss: 0.0252 - accuracy: 0.9925 - val_loss: 0.0082 - val_accuracy: 0.9975 - lr: 9.8477e-05 - 123s/epoch - 246ms/step\n",
            "Epoch 24/50\n",
            "500/500 - 122s - loss: 0.0253 - accuracy: 0.9929 - val_loss: 0.0206 - val_accuracy: 0.9925 - lr: 8.8629e-05 - 122s/epoch - 244ms/step\n",
            "Epoch 25/50\n",
            "500/500 - 122s - loss: 0.0236 - accuracy: 0.9932 - val_loss: 0.0080 - val_accuracy: 0.9975 - lr: 7.9766e-05 - 122s/epoch - 245ms/step\n",
            "Epoch 26/50\n",
            "500/500 - 123s - loss: 0.0242 - accuracy: 0.9932 - val_loss: 0.0115 - val_accuracy: 0.9950 - lr: 7.1790e-05 - 123s/epoch - 246ms/step\n",
            "Epoch 27/50\n",
            "500/500 - 122s - loss: 0.0222 - accuracy: 0.9929 - val_loss: 0.0123 - val_accuracy: 0.9975 - lr: 6.4611e-05 - 122s/epoch - 245ms/step\n",
            "Epoch 28/50\n",
            "500/500 - 123s - loss: 0.0228 - accuracy: 0.9937 - val_loss: 0.0163 - val_accuracy: 0.9950 - lr: 5.8150e-05 - 123s/epoch - 245ms/step\n",
            "Epoch 29/50\n",
            "500/500 - 123s - loss: 0.0200 - accuracy: 0.9937 - val_loss: 0.0164 - val_accuracy: 0.9975 - lr: 5.2335e-05 - 123s/epoch - 247ms/step\n",
            "Epoch 30/50\n",
            "500/500 - 122s - loss: 0.0213 - accuracy: 0.9938 - val_loss: 0.0114 - val_accuracy: 0.9950 - lr: 4.7101e-05 - 122s/epoch - 245ms/step\n",
            "Epoch 31/50\n",
            "500/500 - 122s - loss: 0.0207 - accuracy: 0.9939 - val_loss: 0.0165 - val_accuracy: 0.9975 - lr: 4.2391e-05 - 122s/epoch - 245ms/step\n",
            "Epoch 32/50\n",
            "500/500 - 123s - loss: 0.0219 - accuracy: 0.9936 - val_loss: 0.0151 - val_accuracy: 0.9975 - lr: 3.8152e-05 - 123s/epoch - 246ms/step\n",
            "Epoch 33/50\n",
            "500/500 - 122s - loss: 0.0204 - accuracy: 0.9943 - val_loss: 0.0166 - val_accuracy: 0.9950 - lr: 3.4337e-05 - 122s/epoch - 245ms/step\n",
            "Epoch 34/50\n",
            "500/500 - 122s - loss: 0.0206 - accuracy: 0.9936 - val_loss: 0.0186 - val_accuracy: 0.9975 - lr: 3.0903e-05 - 122s/epoch - 244ms/step\n",
            "Epoch 35/50\n",
            "500/500 - 123s - loss: 0.0186 - accuracy: 0.9942 - val_loss: 0.0191 - val_accuracy: 0.9975 - lr: 2.7813e-05 - 123s/epoch - 246ms/step\n",
            "Epoch 36/50\n",
            "500/500 - 122s - loss: 0.0221 - accuracy: 0.9927 - val_loss: 0.0142 - val_accuracy: 0.9975 - lr: 2.5032e-05 - 122s/epoch - 245ms/step\n",
            "Epoch 37/50\n",
            "500/500 - 122s - loss: 0.0177 - accuracy: 0.9943 - val_loss: 0.0156 - val_accuracy: 0.9975 - lr: 2.2528e-05 - 122s/epoch - 244ms/step\n",
            "Epoch 38/50\n",
            "500/500 - 123s - loss: 0.0208 - accuracy: 0.9940 - val_loss: 0.0140 - val_accuracy: 0.9950 - lr: 2.0276e-05 - 123s/epoch - 246ms/step\n",
            "Epoch 39/50\n",
            "500/500 - 122s - loss: 0.0192 - accuracy: 0.9942 - val_loss: 0.0123 - val_accuracy: 0.9975 - lr: 1.8248e-05 - 122s/epoch - 245ms/step\n",
            "Epoch 40/50\n",
            "500/500 - 122s - loss: 0.0204 - accuracy: 0.9942 - val_loss: 0.0141 - val_accuracy: 0.9950 - lr: 1.6423e-05 - 122s/epoch - 245ms/step\n",
            "Epoch 41/50\n",
            "500/500 - 124s - loss: 0.0210 - accuracy: 0.9941 - val_loss: 0.0121 - val_accuracy: 0.9975 - lr: 1.4781e-05 - 124s/epoch - 247ms/step\n",
            "Epoch 42/50\n",
            "500/500 - 122s - loss: 0.0201 - accuracy: 0.9940 - val_loss: 0.0130 - val_accuracy: 0.9975 - lr: 1.3303e-05 - 122s/epoch - 245ms/step\n",
            "Epoch 43/50\n",
            "500/500 - 122s - loss: 0.0177 - accuracy: 0.9944 - val_loss: 0.0150 - val_accuracy: 0.9950 - lr: 1.1973e-05 - 122s/epoch - 243ms/step\n",
            "Epoch 44/50\n",
            "500/500 - 122s - loss: 0.0192 - accuracy: 0.9937 - val_loss: 0.0130 - val_accuracy: 0.9975 - lr: 1.0775e-05 - 122s/epoch - 244ms/step\n",
            "Epoch 45/50\n",
            "500/500 - 122s - loss: 0.0197 - accuracy: 0.9940 - val_loss: 0.0127 - val_accuracy: 0.9975 - lr: 9.6977e-06 - 122s/epoch - 245ms/step\n",
            "Epoch 46/50\n",
            "500/500 - 122s - loss: 0.0176 - accuracy: 0.9947 - val_loss: 0.0131 - val_accuracy: 0.9950 - lr: 8.7280e-06 - 122s/epoch - 245ms/step\n",
            "Epoch 47/50\n",
            "500/500 - 122s - loss: 0.0190 - accuracy: 0.9946 - val_loss: 0.0127 - val_accuracy: 0.9950 - lr: 7.8552e-06 - 122s/epoch - 245ms/step\n",
            "Epoch 48/50\n",
            "500/500 - 124s - loss: 0.0193 - accuracy: 0.9945 - val_loss: 0.0130 - val_accuracy: 0.9950 - lr: 7.0697e-06 - 124s/epoch - 247ms/step\n",
            "Epoch 49/50\n",
            "500/500 - 122s - loss: 0.0177 - accuracy: 0.9947 - val_loss: 0.0134 - val_accuracy: 0.9950 - lr: 6.3627e-06 - 122s/epoch - 245ms/step\n",
            "Epoch 50/50\n",
            "500/500 - 122s - loss: 0.0172 - accuracy: 0.9948 - val_loss: 0.0136 - val_accuracy: 0.9950 - lr: 5.7264e-06 - 122s/epoch - 245ms/step\n"
          ]
        }
      ]
    },
    {
      "cell_type": "code",
      "source": [
        "score = model.evaluate(X_val, Y_val)"
      ],
      "metadata": {
        "colab": {
          "base_uri": "https://localhost:8080/"
        },
        "id": "YsPNugzS-r-J",
        "outputId": "275613f4-740d-4364-d300-29429bd892d9"
      },
      "execution_count": 16,
      "outputs": [
        {
          "output_type": "stream",
          "name": "stdout",
          "text": [
            "132/132 [==============================] - 5s 40ms/step - loss: 0.0210 - accuracy: 0.9945\n"
          ]
        }
      ]
    },
    {
      "cell_type": "code",
      "source": [
        "print('Test loss:', score[0])\n",
        "print('Test accuracy:', score[1])"
      ],
      "metadata": {
        "colab": {
          "base_uri": "https://localhost:8080/"
        },
        "id": "G7R7nKLOWRK6",
        "outputId": "420d28ba-5707-433d-a5c8-376d5bd31a13"
      },
      "execution_count": 19,
      "outputs": [
        {
          "output_type": "stream",
          "name": "stdout",
          "text": [
            "Test loss: 0.020986761897802353\n",
            "Test accuracy: 0.994523823261261\n"
          ]
        }
      ]
    },
    {
      "cell_type": "code",
      "source": [
        "pd.DataFrame(hist.history).plot(figsize=(8, 5))\n",
        "plt.grid(True)\n",
        "plt.gca().set_ylim(0, 1)\n",
        "plt.show()"
      ],
      "metadata": {
        "colab": {
          "base_uri": "https://localhost:8080/",
          "height": 451
        },
        "id": "S0FnDbcRWRxE",
        "outputId": "27e49bec-c6d3-41ca-c238-2b9dfc9e429d"
      },
      "execution_count": 21,
      "outputs": [
        {
          "output_type": "display_data",
          "data": {
            "text/plain": [
              "<Figure size 800x500 with 1 Axes>"
            ],
            "image/png": "[encoded data removed]"
          },
          "metadata": {}
        }
      ]
    },
    {
      "cell_type": "code",
      "source": [
        "results = model.predict(test)\n",
        "\n",
        "# select index with the maximum probability\n",
        "results = np.argmax(results,axis = 1)\n",
        "\n",
        "\n",
        "my_submission = pd.DataFrame({'ImageId': range(1,28001),\n",
        "                             'Label': results})\n",
        "my_submission.to_csv('/content/drive/MyDrive/Digit_recognizer_Dataset/sample_submission.csv', index=False)"
      ],
      "metadata": {
        "colab": {
          "base_uri": "https://localhost:8080/"
        },
        "id": "dwNnHACEBAWh",
        "outputId": "1cdb40cb-1f89-45f4-c8d9-8bbda908646d"
      },
      "execution_count": 17,
      "outputs": [
        {
          "output_type": "stream",
          "name": "stdout",
          "text": [
            "875/875 [==============================] - 31s 35ms/step\n"
          ]
        }
      ]
    }
  ]
}